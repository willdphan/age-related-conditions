{
  "metadata": {
    "kernelspec": {
      "language": "python",
      "display_name": "Python 3",
      "name": "python3"
    },
    "language_info": {
      "name": "python",
      "version": "3.10.12",
      "mimetype": "text/x-python",
      "codemirror_mode": {
        "name": "ipython",
        "version": 3
      },
      "pygments_lexer": "ipython3",
      "nbconvert_exporter": "python",
      "file_extension": ".py"
    },
    "colab": {
      "provenance": [],
      "include_colab_link": true
    }
  },
  "nbformat_minor": 0,
  "nbformat": 4,
  "cells": [
    {
      "cell_type": "markdown",
      "metadata": {
        "id": "view-in-github",
        "colab_type": "text"
      },
      "source": [
        "<a href=\"https://colab.research.google.com/github/willdphan/age-related-conditions/blob/main/Age_Related_Conditions.ipynb\" target=\"_parent\"><img src=\"https://colab.research.google.com/assets/colab-badge.svg\" alt=\"Open In Colab\"/></a>"
      ]
    },
    {
      "cell_type": "markdown",
      "source": [
        "# Age-Related Conditions\n",
        "\n",
        "The competition dataset contains anonymized health metrics linked to age-related conditions, aiming to predict a binary outcome of diagnosis. It includes a training set with unique identifiers, fifty-six health characteristics (mostly numeric, with one categorical), and a binary target indicating diagnosis:\n",
        "\n",
        "* `class 1` for one or more of any of the three medical conditions\n",
        "* `class 0` for no diagnosis\n",
        "\n",
        "Luckily, the classes are already given!\n",
        "\n",
        "The test set requires predicting the probability of a diagnosis. Additionally, there's a supplemental metadata file for the training set, detailing the type of age-related condition, three experimental characteristics, and the data collection date.\n",
        "\n",
        "## Greeks\n",
        "\n",
        "Alpha Identifies the type of age-related condition, if present.\n",
        "\n",
        "* `A` No age-related condition. Corresponds to class 0.\n",
        "\n",
        "* `B, D, G` The three age-related conditions. Correspond to class 1.\n",
        "Beta, Gamma, Delta Three experimental characteristics.\n",
        "\n",
        "\n",
        "Dataset is from [Kaggle](https://www.kaggle.com/competitions/icr-identify-age-related-conditions).\n",
        "\n",
        "> ## Steps to Age Related Conditions\n",
        "\n",
        ">>[Import Libraries](#scrollTo=0YUm71dXUPpO)\n",
        "\n",
        ">>[Read Data](#scrollTo=D4ulVNMwUPpQ)\n",
        "\n",
        ">>[Clean Data](#scrollTo=m33tsfl2UPpQ)\n",
        "\n",
        ">>[Display Data](#scrollTo=z2P7qwTpUPpR)\n",
        "\n",
        ">>[Grab Top 25 Important Variables using ANOVA.](#scrollTo=TfA4_U6KUPpR)\n",
        "\n",
        ">>[Correct Imbalance to Avoid Bias](#scrollTo=egnngyTYUPpR)\n",
        "\n",
        ">>[Normalize Data](#scrollTo=qics-V9xUPpS)\n",
        "\n",
        ">>[Build Models](#scrollTo=YJy7ng7GUPpZ)\n",
        "\n",
        ">>[Hyperparameter Tuning](#scrollTo=B6SP8XxLUPpe)\n",
        "\n"
      ],
      "metadata": {
        "id": "1fL209-2UPpN"
      }
    },
    {
      "cell_type": "markdown",
      "source": [
        "### Import Libraries\n",
        "\n",
        "Import the libraries uses for data analysis, modeling."
      ],
      "metadata": {
        "id": "0YUm71dXUPpO"
      }
    },
    {
      "cell_type": "code",
      "source": [
        "import pandas as pd\n",
        "import seaborn as sns\n",
        "import numpy as np\n",
        "import matplotlib.pyplot as plt\n",
        "\n",
        "# Preprocessing\n",
        "from sklearn.preprocessing import LabelEncoder\n",
        "from sklearn.preprocessing import MinMaxScaler\n",
        "from sklearn.model_selection import train_test_split\n",
        "\n",
        "# Models\n",
        "from sklearn.neighbors import KNeighborsClassifier\n",
        "from sklearn.svm import SVC\n",
        "from sklearn.naive_bayes import GaussianNB\n",
        "from sklearn.ensemble import RandomForestClassifier\n",
        "from xgboost import XGBClassifier\n",
        "\n",
        "# Metrics\n",
        "from sklearn.model_selection import KFold\n",
        "from sklearn.metrics import accuracy_score\n",
        "from sklearn.feature_selection import SelectKBest, f_classif\n",
        "from sklearn.metrics import classification_report, ConfusionMatrixDisplay\n",
        "from sklearn.model_selection import GridSearchCV\n",
        "\n",
        "# Warnings\n",
        "import warnings\n",
        "warnings.filterwarnings(\"ignore\")\n",
        "\n",
        "import os\n",
        "for dirname, _, filenames in os.walk('/kaggle/input'):\n",
        "    for filename in filenames:\n",
        "        print(os.path.join(dirname, filename))"
      ],
      "metadata": {
        "_uuid": "8f2839f25d086af736a60e9eeb907d3b93b6e0e5",
        "_cell_guid": "b1076dfc-b9ad-4769-8c92-a6c4dae69d19",
        "execution": {
          "iopub.status.busy": "2023-08-07T23:21:01.753703Z",
          "iopub.execute_input": "2023-08-07T23:21:01.755560Z",
          "iopub.status.idle": "2023-08-07T23:21:03.334679Z",
          "shell.execute_reply.started": "2023-08-07T23:21:01.755506Z",
          "shell.execute_reply": "2023-08-07T23:21:03.333571Z"
        },
        "trusted": true,
        "id": "Jj6AbF6-UPpO",
        "outputId": "ee1b6302-df5d-4999-a5df-22866c4faba1"
      },
      "execution_count": null,
      "outputs": [
        {
          "name": "stderr",
          "text": "/opt/conda/lib/python3.10/site-packages/scipy/__init__.py:146: UserWarning: A NumPy version >=1.16.5 and <1.23.0 is required for this version of SciPy (detected version 1.23.5\n  warnings.warn(f\"A NumPy version >={np_minversion} and <{np_maxversion}\"\n",
          "output_type": "stream"
        },
        {
          "name": "stdout",
          "text": "/kaggle/input/icr-identify-age-related-conditions/sample_submission.csv\n/kaggle/input/icr-identify-age-related-conditions/greeks.csv\n/kaggle/input/icr-identify-age-related-conditions/train.csv\n/kaggle/input/icr-identify-age-related-conditions/test.csv\n",
          "output_type": "stream"
        }
      ]
    },
    {
      "cell_type": "markdown",
      "source": [
        "### Read Data"
      ],
      "metadata": {
        "id": "D4ulVNMwUPpQ"
      }
    },
    {
      "cell_type": "code",
      "source": [
        "df = pd.read_csv('/kaggle/input/icr-identify-age-related-conditions/train.csv')\n",
        "df"
      ],
      "metadata": {
        "execution": {
          "iopub.status.busy": "2023-08-07T23:21:03.337096Z",
          "iopub.execute_input": "2023-08-07T23:21:03.338077Z",
          "iopub.status.idle": "2023-08-07T23:21:03.409346Z",
          "shell.execute_reply.started": "2023-08-07T23:21:03.338035Z",
          "shell.execute_reply": "2023-08-07T23:21:03.408243Z"
        },
        "trusted": true,
        "id": "VIfolQg3UPpQ",
        "outputId": "0c22e5c8-102c-4811-a06c-23757f610091"
      },
      "execution_count": null,
      "outputs": [
        {
          "execution_count": 2,
          "output_type": "execute_result",
          "data": {
            "text/plain": "               Id        AB          AF          AH          AM         AR  \\\n0    000ff2bfdfe9  0.209377  3109.03329   85.200147   22.394407   8.138688   \n1    007255e47698  0.145282   978.76416   85.200147   36.968889   8.138688   \n2    013f2bd269f5  0.470030  2635.10654   85.200147   32.360553   8.138688   \n3    043ac50845d5  0.252107  3819.65177  120.201618   77.112203   8.138688   \n4    044fb8a146ec  0.380297  3733.04844   85.200147   14.103738   8.138688   \n..            ...       ...         ...         ...         ...        ...   \n612  fd3dafe738fd  0.149555  3130.05946  123.763599    9.513984  13.020852   \n613  fd895603f071  0.435846  5462.03438   85.200147   46.551007  15.973224   \n614  fd8ef6377f76  0.427300  2459.10720  130.138587   55.355778  10.005552   \n615  fe1942975e40  0.363205  1263.53524   85.200147   23.685856   8.138688   \n616  ffcca4ded3bb  0.482849  2672.53426  546.663930  112.006102   8.138688   \n\n           AX        AY         AZ          BC  ...         FL        FR  \\\n0    0.699861  0.025578   9.812214    5.555634  ...   7.298162   1.73855   \n1    3.632190  0.025578  13.517790    1.229900  ...   0.173229   0.49706   \n2    6.732840  0.025578  12.824570    1.229900  ...   7.709560   0.97556   \n3    3.685344  0.025578  11.053708    1.229900  ...   6.122162   0.49706   \n4    3.942255  0.054810   3.396778  102.151980  ...   8.153058  48.50134   \n..        ...       ...        ...         ...  ...        ...       ...   \n612  3.499305  0.077343   8.545512    2.804172  ...   0.173229   1.26092   \n613  5.979825  0.025882  12.622906    3.777550  ...  10.223150   1.24236   \n614  8.070549  0.025578  15.408390    1.229900  ...   0.173229   0.49706   \n615  7.981959  0.025578   7.524588    1.229900  ...   9.256996   0.78764   \n616  3.198099  0.116928   3.396778    7.948668  ...   0.173229   1.14492   \n\n           FS         GB          GE            GF         GH          GI  \\\n0    0.094822  11.339138   72.611063   2003.810319  22.136229   69.834944   \n1    0.568932   9.292698   72.611063  27981.562750  29.135430   32.131996   \n2    1.198821  37.077772   88.609437  13676.957810  28.022851   35.192676   \n3    0.284466  18.529584   82.416803   2094.262452  39.948656   90.493248   \n4    0.121914  16.408728  146.109943   8524.370502  45.381316   36.262628   \n..        ...        ...         ...           ...        ...         ...   \n612  0.067730   8.967128  217.148554   8095.932828  24.640462   69.191944   \n613  0.426699  35.896418  496.994214   3085.308063  29.648928  124.808872   \n614  0.067730  19.962092  128.896894   6474.652866  26.166072  119.559420   \n615  0.670527  24.594488   72.611063   1965.343176  25.116750   37.155112   \n616  0.149006  13.673940   72.611063   6850.484442  45.745974  114.842372   \n\n            GL  Class  \n0     0.120343      1  \n1    21.978000      0  \n2     0.196941      0  \n3     0.155829      0  \n4     0.096614      1  \n..         ...    ...  \n612  21.978000      0  \n613   0.145340      0  \n614  21.978000      0  \n615   0.184622      0  \n616  21.978000      0  \n\n[617 rows x 58 columns]",
            "text/html": "<div>\n<style scoped>\n    .dataframe tbody tr th:only-of-type {\n        vertical-align: middle;\n    }\n\n    .dataframe tbody tr th {\n        vertical-align: top;\n    }\n\n    .dataframe thead th {\n        text-align: right;\n    }\n</style>\n<table border=\"1\" class=\"dataframe\">\n  <thead>\n    <tr style=\"text-align: right;\">\n      <th></th>\n      <th>Id</th>\n      <th>AB</th>\n      <th>AF</th>\n      <th>AH</th>\n      <th>AM</th>\n      <th>AR</th>\n      <th>AX</th>\n      <th>AY</th>\n      <th>AZ</th>\n      <th>BC</th>\n      <th>...</th>\n      <th>FL</th>\n      <th>FR</th>\n      <th>FS</th>\n      <th>GB</th>\n      <th>GE</th>\n      <th>GF</th>\n      <th>GH</th>\n      <th>GI</th>\n      <th>GL</th>\n      <th>Class</th>\n    </tr>\n  </thead>\n  <tbody>\n    <tr>\n      <th>0</th>\n      <td>000ff2bfdfe9</td>\n      <td>0.209377</td>\n      <td>3109.03329</td>\n      <td>85.200147</td>\n      <td>22.394407</td>\n      <td>8.138688</td>\n      <td>0.699861</td>\n      <td>0.025578</td>\n      <td>9.812214</td>\n      <td>5.555634</td>\n      <td>...</td>\n      <td>7.298162</td>\n      <td>1.73855</td>\n      <td>0.094822</td>\n      <td>11.339138</td>\n      <td>72.611063</td>\n      <td>2003.810319</td>\n      <td>22.136229</td>\n      <td>69.834944</td>\n      <td>0.120343</td>\n      <td>1</td>\n    </tr>\n    <tr>\n      <th>1</th>\n      <td>007255e47698</td>\n      <td>0.145282</td>\n      <td>978.76416</td>\n      <td>85.200147</td>\n      <td>36.968889</td>\n      <td>8.138688</td>\n      <td>3.632190</td>\n      <td>0.025578</td>\n      <td>13.517790</td>\n      <td>1.229900</td>\n      <td>...</td>\n      <td>0.173229</td>\n      <td>0.49706</td>\n      <td>0.568932</td>\n      <td>9.292698</td>\n      <td>72.611063</td>\n      <td>27981.562750</td>\n      <td>29.135430</td>\n      <td>32.131996</td>\n      <td>21.978000</td>\n      <td>0</td>\n    </tr>\n    <tr>\n      <th>2</th>\n      <td>013f2bd269f5</td>\n      <td>0.470030</td>\n      <td>2635.10654</td>\n      <td>85.200147</td>\n      <td>32.360553</td>\n      <td>8.138688</td>\n      <td>6.732840</td>\n      <td>0.025578</td>\n      <td>12.824570</td>\n      <td>1.229900</td>\n      <td>...</td>\n      <td>7.709560</td>\n      <td>0.97556</td>\n      <td>1.198821</td>\n      <td>37.077772</td>\n      <td>88.609437</td>\n      <td>13676.957810</td>\n      <td>28.022851</td>\n      <td>35.192676</td>\n      <td>0.196941</td>\n      <td>0</td>\n    </tr>\n    <tr>\n      <th>3</th>\n      <td>043ac50845d5</td>\n      <td>0.252107</td>\n      <td>3819.65177</td>\n      <td>120.201618</td>\n      <td>77.112203</td>\n      <td>8.138688</td>\n      <td>3.685344</td>\n      <td>0.025578</td>\n      <td>11.053708</td>\n      <td>1.229900</td>\n      <td>...</td>\n      <td>6.122162</td>\n      <td>0.49706</td>\n      <td>0.284466</td>\n      <td>18.529584</td>\n      <td>82.416803</td>\n      <td>2094.262452</td>\n      <td>39.948656</td>\n      <td>90.493248</td>\n      <td>0.155829</td>\n      <td>0</td>\n    </tr>\n    <tr>\n      <th>4</th>\n      <td>044fb8a146ec</td>\n      <td>0.380297</td>\n      <td>3733.04844</td>\n      <td>85.200147</td>\n      <td>14.103738</td>\n      <td>8.138688</td>\n      <td>3.942255</td>\n      <td>0.054810</td>\n      <td>3.396778</td>\n      <td>102.151980</td>\n      <td>...</td>\n      <td>8.153058</td>\n      <td>48.50134</td>\n      <td>0.121914</td>\n      <td>16.408728</td>\n      <td>146.109943</td>\n      <td>8524.370502</td>\n      <td>45.381316</td>\n      <td>36.262628</td>\n      <td>0.096614</td>\n      <td>1</td>\n    </tr>\n    <tr>\n      <th>...</th>\n      <td>...</td>\n      <td>...</td>\n      <td>...</td>\n      <td>...</td>\n      <td>...</td>\n      <td>...</td>\n      <td>...</td>\n      <td>...</td>\n      <td>...</td>\n      <td>...</td>\n      <td>...</td>\n      <td>...</td>\n      <td>...</td>\n      <td>...</td>\n      <td>...</td>\n      <td>...</td>\n      <td>...</td>\n      <td>...</td>\n      <td>...</td>\n      <td>...</td>\n      <td>...</td>\n    </tr>\n    <tr>\n      <th>612</th>\n      <td>fd3dafe738fd</td>\n      <td>0.149555</td>\n      <td>3130.05946</td>\n      <td>123.763599</td>\n      <td>9.513984</td>\n      <td>13.020852</td>\n      <td>3.499305</td>\n      <td>0.077343</td>\n      <td>8.545512</td>\n      <td>2.804172</td>\n      <td>...</td>\n      <td>0.173229</td>\n      <td>1.26092</td>\n      <td>0.067730</td>\n      <td>8.967128</td>\n      <td>217.148554</td>\n      <td>8095.932828</td>\n      <td>24.640462</td>\n      <td>69.191944</td>\n      <td>21.978000</td>\n      <td>0</td>\n    </tr>\n    <tr>\n      <th>613</th>\n      <td>fd895603f071</td>\n      <td>0.435846</td>\n      <td>5462.03438</td>\n      <td>85.200147</td>\n      <td>46.551007</td>\n      <td>15.973224</td>\n      <td>5.979825</td>\n      <td>0.025882</td>\n      <td>12.622906</td>\n      <td>3.777550</td>\n      <td>...</td>\n      <td>10.223150</td>\n      <td>1.24236</td>\n      <td>0.426699</td>\n      <td>35.896418</td>\n      <td>496.994214</td>\n      <td>3085.308063</td>\n      <td>29.648928</td>\n      <td>124.808872</td>\n      <td>0.145340</td>\n      <td>0</td>\n    </tr>\n    <tr>\n      <th>614</th>\n      <td>fd8ef6377f76</td>\n      <td>0.427300</td>\n      <td>2459.10720</td>\n      <td>130.138587</td>\n      <td>55.355778</td>\n      <td>10.005552</td>\n      <td>8.070549</td>\n      <td>0.025578</td>\n      <td>15.408390</td>\n      <td>1.229900</td>\n      <td>...</td>\n      <td>0.173229</td>\n      <td>0.49706</td>\n      <td>0.067730</td>\n      <td>19.962092</td>\n      <td>128.896894</td>\n      <td>6474.652866</td>\n      <td>26.166072</td>\n      <td>119.559420</td>\n      <td>21.978000</td>\n      <td>0</td>\n    </tr>\n    <tr>\n      <th>615</th>\n      <td>fe1942975e40</td>\n      <td>0.363205</td>\n      <td>1263.53524</td>\n      <td>85.200147</td>\n      <td>23.685856</td>\n      <td>8.138688</td>\n      <td>7.981959</td>\n      <td>0.025578</td>\n      <td>7.524588</td>\n      <td>1.229900</td>\n      <td>...</td>\n      <td>9.256996</td>\n      <td>0.78764</td>\n      <td>0.670527</td>\n      <td>24.594488</td>\n      <td>72.611063</td>\n      <td>1965.343176</td>\n      <td>25.116750</td>\n      <td>37.155112</td>\n      <td>0.184622</td>\n      <td>0</td>\n    </tr>\n    <tr>\n      <th>616</th>\n      <td>ffcca4ded3bb</td>\n      <td>0.482849</td>\n      <td>2672.53426</td>\n      <td>546.663930</td>\n      <td>112.006102</td>\n      <td>8.138688</td>\n      <td>3.198099</td>\n      <td>0.116928</td>\n      <td>3.396778</td>\n      <td>7.948668</td>\n      <td>...</td>\n      <td>0.173229</td>\n      <td>1.14492</td>\n      <td>0.149006</td>\n      <td>13.673940</td>\n      <td>72.611063</td>\n      <td>6850.484442</td>\n      <td>45.745974</td>\n      <td>114.842372</td>\n      <td>21.978000</td>\n      <td>0</td>\n    </tr>\n  </tbody>\n</table>\n<p>617 rows × 58 columns</p>\n</div>"
          },
          "metadata": {}
        }
      ]
    },
    {
      "cell_type": "markdown",
      "source": [
        "### Clean Data\n",
        "**ID** does not seem important, so we drop the `Id` column."
      ],
      "metadata": {
        "id": "m33tsfl2UPpQ"
      }
    },
    {
      "cell_type": "code",
      "source": [
        "df.drop('Id', inplace=True, axis=1)\n",
        "df"
      ],
      "metadata": {
        "execution": {
          "iopub.status.busy": "2023-08-07T23:21:03.410916Z",
          "iopub.execute_input": "2023-08-07T23:21:03.411729Z",
          "iopub.status.idle": "2023-08-07T23:21:03.448988Z",
          "shell.execute_reply.started": "2023-08-07T23:21:03.411686Z",
          "shell.execute_reply": "2023-08-07T23:21:03.447822Z"
        },
        "trusted": true,
        "id": "T6QXNbItUPpQ",
        "outputId": "0de2d92a-8c49-48f8-ff94-8e672a452422"
      },
      "execution_count": null,
      "outputs": [
        {
          "execution_count": 3,
          "output_type": "execute_result",
          "data": {
            "text/plain": "           AB          AF          AH          AM         AR        AX  \\\n0    0.209377  3109.03329   85.200147   22.394407   8.138688  0.699861   \n1    0.145282   978.76416   85.200147   36.968889   8.138688  3.632190   \n2    0.470030  2635.10654   85.200147   32.360553   8.138688  6.732840   \n3    0.252107  3819.65177  120.201618   77.112203   8.138688  3.685344   \n4    0.380297  3733.04844   85.200147   14.103738   8.138688  3.942255   \n..        ...         ...         ...         ...        ...       ...   \n612  0.149555  3130.05946  123.763599    9.513984  13.020852  3.499305   \n613  0.435846  5462.03438   85.200147   46.551007  15.973224  5.979825   \n614  0.427300  2459.10720  130.138587   55.355778  10.005552  8.070549   \n615  0.363205  1263.53524   85.200147   23.685856   8.138688  7.981959   \n616  0.482849  2672.53426  546.663930  112.006102   8.138688  3.198099   \n\n           AY         AZ          BC         BD   ...         FL        FR  \\\n0    0.025578   9.812214    5.555634  4126.58731  ...   7.298162   1.73855   \n1    0.025578  13.517790    1.229900  5496.92824  ...   0.173229   0.49706   \n2    0.025578  12.824570    1.229900  5135.78024  ...   7.709560   0.97556   \n3    0.025578  11.053708    1.229900  4169.67738  ...   6.122162   0.49706   \n4    0.054810   3.396778  102.151980  5728.73412  ...   8.153058  48.50134   \n..        ...        ...         ...         ...  ...        ...       ...   \n612  0.077343   8.545512    2.804172  4157.68439  ...   0.173229   1.26092   \n613  0.025882  12.622906    3.777550  5654.07556  ...  10.223150   1.24236   \n614  0.025578  15.408390    1.229900  5888.87769  ...   0.173229   0.49706   \n615  0.025578   7.524588    1.229900  4517.86560  ...   9.256996   0.78764   \n616  0.116928   3.396778    7.948668  2818.01707  ...   0.173229   1.14492   \n\n           FS         GB          GE            GF         GH          GI  \\\n0    0.094822  11.339138   72.611063   2003.810319  22.136229   69.834944   \n1    0.568932   9.292698   72.611063  27981.562750  29.135430   32.131996   \n2    1.198821  37.077772   88.609437  13676.957810  28.022851   35.192676   \n3    0.284466  18.529584   82.416803   2094.262452  39.948656   90.493248   \n4    0.121914  16.408728  146.109943   8524.370502  45.381316   36.262628   \n..        ...        ...         ...           ...        ...         ...   \n612  0.067730   8.967128  217.148554   8095.932828  24.640462   69.191944   \n613  0.426699  35.896418  496.994214   3085.308063  29.648928  124.808872   \n614  0.067730  19.962092  128.896894   6474.652866  26.166072  119.559420   \n615  0.670527  24.594488   72.611063   1965.343176  25.116750   37.155112   \n616  0.149006  13.673940   72.611063   6850.484442  45.745974  114.842372   \n\n            GL  Class  \n0     0.120343      1  \n1    21.978000      0  \n2     0.196941      0  \n3     0.155829      0  \n4     0.096614      1  \n..         ...    ...  \n612  21.978000      0  \n613   0.145340      0  \n614  21.978000      0  \n615   0.184622      0  \n616  21.978000      0  \n\n[617 rows x 57 columns]",
            "text/html": "<div>\n<style scoped>\n    .dataframe tbody tr th:only-of-type {\n        vertical-align: middle;\n    }\n\n    .dataframe tbody tr th {\n        vertical-align: top;\n    }\n\n    .dataframe thead th {\n        text-align: right;\n    }\n</style>\n<table border=\"1\" class=\"dataframe\">\n  <thead>\n    <tr style=\"text-align: right;\">\n      <th></th>\n      <th>AB</th>\n      <th>AF</th>\n      <th>AH</th>\n      <th>AM</th>\n      <th>AR</th>\n      <th>AX</th>\n      <th>AY</th>\n      <th>AZ</th>\n      <th>BC</th>\n      <th>BD</th>\n      <th>...</th>\n      <th>FL</th>\n      <th>FR</th>\n      <th>FS</th>\n      <th>GB</th>\n      <th>GE</th>\n      <th>GF</th>\n      <th>GH</th>\n      <th>GI</th>\n      <th>GL</th>\n      <th>Class</th>\n    </tr>\n  </thead>\n  <tbody>\n    <tr>\n      <th>0</th>\n      <td>0.209377</td>\n      <td>3109.03329</td>\n      <td>85.200147</td>\n      <td>22.394407</td>\n      <td>8.138688</td>\n      <td>0.699861</td>\n      <td>0.025578</td>\n      <td>9.812214</td>\n      <td>5.555634</td>\n      <td>4126.58731</td>\n      <td>...</td>\n      <td>7.298162</td>\n      <td>1.73855</td>\n      <td>0.094822</td>\n      <td>11.339138</td>\n      <td>72.611063</td>\n      <td>2003.810319</td>\n      <td>22.136229</td>\n      <td>69.834944</td>\n      <td>0.120343</td>\n      <td>1</td>\n    </tr>\n    <tr>\n      <th>1</th>\n      <td>0.145282</td>\n      <td>978.76416</td>\n      <td>85.200147</td>\n      <td>36.968889</td>\n      <td>8.138688</td>\n      <td>3.632190</td>\n      <td>0.025578</td>\n      <td>13.517790</td>\n      <td>1.229900</td>\n      <td>5496.92824</td>\n      <td>...</td>\n      <td>0.173229</td>\n      <td>0.49706</td>\n      <td>0.568932</td>\n      <td>9.292698</td>\n      <td>72.611063</td>\n      <td>27981.562750</td>\n      <td>29.135430</td>\n      <td>32.131996</td>\n      <td>21.978000</td>\n      <td>0</td>\n    </tr>\n    <tr>\n      <th>2</th>\n      <td>0.470030</td>\n      <td>2635.10654</td>\n      <td>85.200147</td>\n      <td>32.360553</td>\n      <td>8.138688</td>\n      <td>6.732840</td>\n      <td>0.025578</td>\n      <td>12.824570</td>\n      <td>1.229900</td>\n      <td>5135.78024</td>\n      <td>...</td>\n      <td>7.709560</td>\n      <td>0.97556</td>\n      <td>1.198821</td>\n      <td>37.077772</td>\n      <td>88.609437</td>\n      <td>13676.957810</td>\n      <td>28.022851</td>\n      <td>35.192676</td>\n      <td>0.196941</td>\n      <td>0</td>\n    </tr>\n    <tr>\n      <th>3</th>\n      <td>0.252107</td>\n      <td>3819.65177</td>\n      <td>120.201618</td>\n      <td>77.112203</td>\n      <td>8.138688</td>\n      <td>3.685344</td>\n      <td>0.025578</td>\n      <td>11.053708</td>\n      <td>1.229900</td>\n      <td>4169.67738</td>\n      <td>...</td>\n      <td>6.122162</td>\n      <td>0.49706</td>\n      <td>0.284466</td>\n      <td>18.529584</td>\n      <td>82.416803</td>\n      <td>2094.262452</td>\n      <td>39.948656</td>\n      <td>90.493248</td>\n      <td>0.155829</td>\n      <td>0</td>\n    </tr>\n    <tr>\n      <th>4</th>\n      <td>0.380297</td>\n      <td>3733.04844</td>\n      <td>85.200147</td>\n      <td>14.103738</td>\n      <td>8.138688</td>\n      <td>3.942255</td>\n      <td>0.054810</td>\n      <td>3.396778</td>\n      <td>102.151980</td>\n      <td>5728.73412</td>\n      <td>...</td>\n      <td>8.153058</td>\n      <td>48.50134</td>\n      <td>0.121914</td>\n      <td>16.408728</td>\n      <td>146.109943</td>\n      <td>8524.370502</td>\n      <td>45.381316</td>\n      <td>36.262628</td>\n      <td>0.096614</td>\n      <td>1</td>\n    </tr>\n    <tr>\n      <th>...</th>\n      <td>...</td>\n      <td>...</td>\n      <td>...</td>\n      <td>...</td>\n      <td>...</td>\n      <td>...</td>\n      <td>...</td>\n      <td>...</td>\n      <td>...</td>\n      <td>...</td>\n      <td>...</td>\n      <td>...</td>\n      <td>...</td>\n      <td>...</td>\n      <td>...</td>\n      <td>...</td>\n      <td>...</td>\n      <td>...</td>\n      <td>...</td>\n      <td>...</td>\n      <td>...</td>\n    </tr>\n    <tr>\n      <th>612</th>\n      <td>0.149555</td>\n      <td>3130.05946</td>\n      <td>123.763599</td>\n      <td>9.513984</td>\n      <td>13.020852</td>\n      <td>3.499305</td>\n      <td>0.077343</td>\n      <td>8.545512</td>\n      <td>2.804172</td>\n      <td>4157.68439</td>\n      <td>...</td>\n      <td>0.173229</td>\n      <td>1.26092</td>\n      <td>0.067730</td>\n      <td>8.967128</td>\n      <td>217.148554</td>\n      <td>8095.932828</td>\n      <td>24.640462</td>\n      <td>69.191944</td>\n      <td>21.978000</td>\n      <td>0</td>\n    </tr>\n    <tr>\n      <th>613</th>\n      <td>0.435846</td>\n      <td>5462.03438</td>\n      <td>85.200147</td>\n      <td>46.551007</td>\n      <td>15.973224</td>\n      <td>5.979825</td>\n      <td>0.025882</td>\n      <td>12.622906</td>\n      <td>3.777550</td>\n      <td>5654.07556</td>\n      <td>...</td>\n      <td>10.223150</td>\n      <td>1.24236</td>\n      <td>0.426699</td>\n      <td>35.896418</td>\n      <td>496.994214</td>\n      <td>3085.308063</td>\n      <td>29.648928</td>\n      <td>124.808872</td>\n      <td>0.145340</td>\n      <td>0</td>\n    </tr>\n    <tr>\n      <th>614</th>\n      <td>0.427300</td>\n      <td>2459.10720</td>\n      <td>130.138587</td>\n      <td>55.355778</td>\n      <td>10.005552</td>\n      <td>8.070549</td>\n      <td>0.025578</td>\n      <td>15.408390</td>\n      <td>1.229900</td>\n      <td>5888.87769</td>\n      <td>...</td>\n      <td>0.173229</td>\n      <td>0.49706</td>\n      <td>0.067730</td>\n      <td>19.962092</td>\n      <td>128.896894</td>\n      <td>6474.652866</td>\n      <td>26.166072</td>\n      <td>119.559420</td>\n      <td>21.978000</td>\n      <td>0</td>\n    </tr>\n    <tr>\n      <th>615</th>\n      <td>0.363205</td>\n      <td>1263.53524</td>\n      <td>85.200147</td>\n      <td>23.685856</td>\n      <td>8.138688</td>\n      <td>7.981959</td>\n      <td>0.025578</td>\n      <td>7.524588</td>\n      <td>1.229900</td>\n      <td>4517.86560</td>\n      <td>...</td>\n      <td>9.256996</td>\n      <td>0.78764</td>\n      <td>0.670527</td>\n      <td>24.594488</td>\n      <td>72.611063</td>\n      <td>1965.343176</td>\n      <td>25.116750</td>\n      <td>37.155112</td>\n      <td>0.184622</td>\n      <td>0</td>\n    </tr>\n    <tr>\n      <th>616</th>\n      <td>0.482849</td>\n      <td>2672.53426</td>\n      <td>546.663930</td>\n      <td>112.006102</td>\n      <td>8.138688</td>\n      <td>3.198099</td>\n      <td>0.116928</td>\n      <td>3.396778</td>\n      <td>7.948668</td>\n      <td>2818.01707</td>\n      <td>...</td>\n      <td>0.173229</td>\n      <td>1.14492</td>\n      <td>0.149006</td>\n      <td>13.673940</td>\n      <td>72.611063</td>\n      <td>6850.484442</td>\n      <td>45.745974</td>\n      <td>114.842372</td>\n      <td>21.978000</td>\n      <td>0</td>\n    </tr>\n  </tbody>\n</table>\n<p>617 rows × 57 columns</p>\n</div>"
          },
          "metadata": {}
        }
      ]
    },
    {
      "cell_type": "code",
      "source": [
        "df.dtypes"
      ],
      "metadata": {
        "execution": {
          "iopub.status.busy": "2023-08-07T23:21:03.450473Z",
          "iopub.execute_input": "2023-08-07T23:21:03.451603Z",
          "iopub.status.idle": "2023-08-07T23:21:03.461137Z",
          "shell.execute_reply.started": "2023-08-07T23:21:03.451561Z",
          "shell.execute_reply": "2023-08-07T23:21:03.460258Z"
        },
        "trusted": true,
        "id": "O-J69KxzUPpQ",
        "outputId": "bb71d5a3-5886-461f-cd03-22ddebf00136"
      },
      "execution_count": null,
      "outputs": [
        {
          "execution_count": 4,
          "output_type": "execute_result",
          "data": {
            "text/plain": "AB       float64\nAF       float64\nAH       float64\nAM       float64\nAR       float64\nAX       float64\nAY       float64\nAZ       float64\nBC       float64\nBD       float64\nBN       float64\nBP       float64\nBQ       float64\nBR       float64\nBZ       float64\nCB       float64\nCC       float64\nCD       float64\nCF       float64\nCH       float64\nCL       float64\nCR       float64\nCS       float64\nCU       float64\nCW       float64\nDA       float64\nDE       float64\nDF       float64\nDH       float64\nDI       float64\nDL       float64\nDN       float64\nDU       float64\nDV       float64\nDY       float64\nEB       float64\nEE       float64\nEG       float64\nEH       float64\nEJ        object\nEL       float64\nEP       float64\nEU       float64\nFC       float64\nFD       float64\nFE       float64\nFI       float64\nFL       float64\nFR       float64\nFS       float64\nGB       float64\nGE       float64\nGF       float64\nGH       float64\nGI       float64\nGL       float64\nClass      int64\ndtype: object"
          },
          "metadata": {}
        }
      ]
    },
    {
      "cell_type": "markdown",
      "source": [
        "`EJ` is an object and we want to convert to numerical data."
      ],
      "metadata": {
        "id": "ayrw99ejUPpQ"
      }
    },
    {
      "cell_type": "code",
      "source": [
        "le = LabelEncoder()\n",
        "df['EJ'] = le.fit_transform(df['EJ'])\n",
        "df['EJ']"
      ],
      "metadata": {
        "execution": {
          "iopub.status.busy": "2023-08-07T23:21:03.464290Z",
          "iopub.execute_input": "2023-08-07T23:21:03.465205Z",
          "iopub.status.idle": "2023-08-07T23:21:03.477475Z",
          "shell.execute_reply.started": "2023-08-07T23:21:03.465165Z",
          "shell.execute_reply": "2023-08-07T23:21:03.476507Z"
        },
        "trusted": true,
        "id": "PFSkA6bLUPpQ",
        "outputId": "ade2df73-749c-4b13-9009-aa2e81bc9633"
      },
      "execution_count": null,
      "outputs": [
        {
          "execution_count": 5,
          "output_type": "execute_result",
          "data": {
            "text/plain": "0      1\n1      0\n2      1\n3      1\n4      1\n      ..\n612    0\n613    1\n614    0\n615    1\n616    0\nName: EJ, Length: 617, dtype: int64"
          },
          "metadata": {}
        }
      ]
    },
    {
      "cell_type": "code",
      "source": [
        "df.isnull().sum()"
      ],
      "metadata": {
        "execution": {
          "iopub.status.busy": "2023-08-07T23:21:03.478703Z",
          "iopub.execute_input": "2023-08-07T23:21:03.479771Z",
          "iopub.status.idle": "2023-08-07T23:21:03.493442Z",
          "shell.execute_reply.started": "2023-08-07T23:21:03.479731Z",
          "shell.execute_reply": "2023-08-07T23:21:03.492362Z"
        },
        "trusted": true,
        "id": "K7L1Di_HUPpQ",
        "outputId": "48431221-81bb-4ade-f233-103ba93166ff"
      },
      "execution_count": null,
      "outputs": [
        {
          "execution_count": 6,
          "output_type": "execute_result",
          "data": {
            "text/plain": "AB        0\nAF        0\nAH        0\nAM        0\nAR        0\nAX        0\nAY        0\nAZ        0\nBC        0\nBD        0\nBN        0\nBP        0\nBQ       60\nBR        0\nBZ        0\nCB        2\nCC        3\nCD        0\nCF        0\nCH        0\nCL        0\nCR        0\nCS        0\nCU        0\nCW        0\nDA        0\nDE        0\nDF        0\nDH        0\nDI        0\nDL        0\nDN        0\nDU        1\nDV        0\nDY        0\nEB        0\nEE        0\nEG        0\nEH        0\nEJ        0\nEL       60\nEP        0\nEU        0\nFC        1\nFD        0\nFE        0\nFI        0\nFL        1\nFR        0\nFS        2\nGB        0\nGE        0\nGF        0\nGH        0\nGI        0\nGL        1\nClass     0\ndtype: int64"
          },
          "metadata": {}
        }
      ]
    },
    {
      "cell_type": "markdown",
      "source": [
        "Drop empty values and view remaining null values (if any)."
      ],
      "metadata": {
        "id": "T3QF1ETlUPpQ"
      }
    },
    {
      "cell_type": "code",
      "source": [
        "df.dropna(inplace=True, axis=1)\n",
        "df.isnull().sum()"
      ],
      "metadata": {
        "execution": {
          "iopub.status.busy": "2023-08-07T23:21:03.495965Z",
          "iopub.execute_input": "2023-08-07T23:21:03.496643Z",
          "iopub.status.idle": "2023-08-07T23:21:03.508273Z",
          "shell.execute_reply.started": "2023-08-07T23:21:03.496603Z",
          "shell.execute_reply": "2023-08-07T23:21:03.507395Z"
        },
        "trusted": true,
        "id": "aF80mTMsUPpQ",
        "outputId": "9bd10d13-6c55-4c95-f62e-26a6318d481c"
      },
      "execution_count": null,
      "outputs": [
        {
          "execution_count": 7,
          "output_type": "execute_result",
          "data": {
            "text/plain": "AB       0\nAF       0\nAH       0\nAM       0\nAR       0\nAX       0\nAY       0\nAZ       0\nBC       0\nBD       0\nBN       0\nBP       0\nBR       0\nBZ       0\nCD       0\nCF       0\nCH       0\nCL       0\nCR       0\nCS       0\nCU       0\nCW       0\nDA       0\nDE       0\nDF       0\nDH       0\nDI       0\nDL       0\nDN       0\nDV       0\nDY       0\nEB       0\nEE       0\nEG       0\nEH       0\nEJ       0\nEP       0\nEU       0\nFD       0\nFE       0\nFI       0\nFR       0\nGB       0\nGE       0\nGF       0\nGH       0\nGI       0\nClass    0\ndtype: int64"
          },
          "metadata": {}
        }
      ]
    },
    {
      "cell_type": "markdown",
      "source": [
        "View the ratio of class 0 and class 1."
      ],
      "metadata": {
        "id": "sn_OslYQUPpQ"
      }
    },
    {
      "cell_type": "code",
      "source": [
        "split = df['Class'].value_counts()\n",
        "split"
      ],
      "metadata": {
        "execution": {
          "iopub.status.busy": "2023-08-07T23:21:03.509606Z",
          "iopub.execute_input": "2023-08-07T23:21:03.510661Z",
          "iopub.status.idle": "2023-08-07T23:21:03.528554Z",
          "shell.execute_reply.started": "2023-08-07T23:21:03.510622Z",
          "shell.execute_reply": "2023-08-07T23:21:03.527489Z"
        },
        "trusted": true,
        "id": "zxvBeEd5UPpR",
        "outputId": "3d99fb47-4d9b-432a-9096-63a163037d61"
      },
      "execution_count": null,
      "outputs": [
        {
          "execution_count": 8,
          "output_type": "execute_result",
          "data": {
            "text/plain": "0    509\n1    108\nName: Class, dtype: int64"
          },
          "metadata": {}
        }
      ]
    },
    {
      "cell_type": "markdown",
      "source": [
        "### Display Data\n",
        "Create a pie graph and bar graph to show the imbalanced ratio between `class 1` and `class 0`."
      ],
      "metadata": {
        "id": "z2P7qwTpUPpR"
      }
    },
    {
      "cell_type": "code",
      "source": [
        "plot_df = df.Class.value_counts()\n",
        "\n",
        "plot_df.plot(kind=\"pie\")\n",
        "plt.show()"
      ],
      "metadata": {
        "execution": {
          "iopub.status.busy": "2023-08-07T23:21:03.530513Z",
          "iopub.execute_input": "2023-08-07T23:21:03.531163Z",
          "iopub.status.idle": "2023-08-07T23:21:03.695294Z",
          "shell.execute_reply.started": "2023-08-07T23:21:03.531123Z",
          "shell.execute_reply": "2023-08-07T23:21:03.694189Z"
        },
        "trusted": true,
        "id": "vberMLcrUPpR",
        "outputId": "0f523d1c-3c42-4065-8924-d8ee68fe9f96"
      },
      "execution_count": null,
      "outputs": [
        {
          "output_type": "display_data",
          "data": {
            "text/plain": "<Figure size 640x480 with 1 Axes>",
            "image/png": "[encoded data removed]"
          },
          "metadata": {}
        }
      ]
    },
    {
      "cell_type": "markdown",
      "source": [
        "Another method to see the imbalanced ratio."
      ],
      "metadata": {
        "id": "2G8BBcLtUPpR"
      }
    },
    {
      "cell_type": "code",
      "source": [
        "x = df['Class'].value_counts().astype(np.int32)\n",
        "sns.barplot(x=x.keys(), y=x)\n",
        "plt.plot()"
      ],
      "metadata": {
        "execution": {
          "iopub.status.busy": "2023-08-07T23:21:03.696960Z",
          "iopub.execute_input": "2023-08-07T23:21:03.697644Z",
          "iopub.status.idle": "2023-08-07T23:21:03.917651Z",
          "shell.execute_reply.started": "2023-08-07T23:21:03.697601Z",
          "shell.execute_reply": "2023-08-07T23:21:03.916597Z"
        },
        "trusted": true,
        "id": "9wMhQQuVUPpR",
        "outputId": "217593ce-90fc-4324-b15f-ad7474cc6acc"
      },
      "execution_count": null,
      "outputs": [
        {
          "execution_count": 10,
          "output_type": "execute_result",
          "data": {
            "text/plain": "[]"
          },
          "metadata": {}
        },
        {
          "output_type": "display_data",
          "data": {
            "text/plain": "<Figure size 640x480 with 1 Axes>",
            "image/png": "[encoded data removed]"
          },
          "metadata": {}
        }
      ]
    },
    {
      "cell_type": "markdown",
      "source": [
        "Grab the X column data without the class column data. In other words, exclude outcome or y column."
      ],
      "metadata": {
        "id": "AxqYCXG5UPpR"
      }
    },
    {
      "cell_type": "code",
      "source": [
        "X = df.iloc[ : , : -1]\n",
        "X"
      ],
      "metadata": {
        "execution": {
          "iopub.status.busy": "2023-08-07T23:21:03.919161Z",
          "iopub.execute_input": "2023-08-07T23:21:03.919591Z",
          "iopub.status.idle": "2023-08-07T23:21:03.951658Z",
          "shell.execute_reply.started": "2023-08-07T23:21:03.919553Z",
          "shell.execute_reply": "2023-08-07T23:21:03.950482Z"
        },
        "trusted": true,
        "id": "PMPvChBuUPpR",
        "outputId": "06101c84-484d-427f-b7d8-fe8ece0de6e4"
      },
      "execution_count": null,
      "outputs": [
        {
          "execution_count": 11,
          "output_type": "execute_result",
          "data": {
            "text/plain": "           AB          AF          AH          AM         AR        AX  \\\n0    0.209377  3109.03329   85.200147   22.394407   8.138688  0.699861   \n1    0.145282   978.76416   85.200147   36.968889   8.138688  3.632190   \n2    0.470030  2635.10654   85.200147   32.360553   8.138688  6.732840   \n3    0.252107  3819.65177  120.201618   77.112203   8.138688  3.685344   \n4    0.380297  3733.04844   85.200147   14.103738   8.138688  3.942255   \n..        ...         ...         ...         ...        ...       ...   \n612  0.149555  3130.05946  123.763599    9.513984  13.020852  3.499305   \n613  0.435846  5462.03438   85.200147   46.551007  15.973224  5.979825   \n614  0.427300  2459.10720  130.138587   55.355778  10.005552  8.070549   \n615  0.363205  1263.53524   85.200147   23.685856   8.138688  7.981959   \n616  0.482849  2672.53426  546.663930  112.006102   8.138688  3.198099   \n\n           AY         AZ          BC         BD   ...          EU        FD   \\\n0    0.025578   9.812214    5.555634  4126.58731  ...    3.828384  10.265073   \n1    0.025578  13.517790    1.229900  5496.92824  ...   52.260480   0.296850   \n2    0.025578  12.824570    1.229900  5135.78024  ...    5.390628   8.745201   \n3    0.025578  11.053708    1.229900  4169.67738  ...   31.323372   7.884336   \n4    0.054810   3.396778  102.151980  5728.73412  ...   51.141336   4.274640   \n..        ...        ...         ...         ...  ...         ...        ...   \n612  0.077343   8.545512    2.804172  4157.68439  ...   65.821872   0.296850   \n613  0.025882  12.622906    3.777550  5654.07556  ...  447.657600   6.067614   \n614  0.025578  15.408390    1.229900  5888.87769  ...    3.828384   0.296850   \n615  0.025578   7.524588    1.229900  4517.86560  ...    8.259384   6.192291   \n616  0.116928   3.396778    7.948668  2818.01707  ...   78.370464   0.296850   \n\n               FE         FI        FR         GB          GE            GF  \\\n0     9028.291921   3.583450   1.73855  11.339138   72.611063   2003.810319   \n1     6785.003474  10.358927   0.49706   9.292698   72.611063  27981.562750   \n2     8338.906181  11.626917   0.97556  37.077772   88.609437  13676.957810   \n3    10965.766040  14.852022   0.49706  18.529584   82.416803   2094.262452   \n4    16198.049590  13.666727  48.50134  16.408728  146.109943   8524.370502   \n..            ...        ...       ...        ...         ...           ...   \n612  17167.209610   9.879296   1.26092   8.967128  217.148554   8095.932828   \n613  18460.330020  10.910227   1.24236  35.896418  496.994214   3085.308063   \n614   5088.922912  12.029366   0.49706  19.962092  128.896894   6474.652866   \n615   6464.250832   8.026928   0.78764  24.594488   72.611063   1965.343176   \n616   5895.352262   7.745765   1.14492  13.673940   72.611063   6850.484442   \n\n            GH          GI  \n0    22.136229   69.834944  \n1    29.135430   32.131996  \n2    28.022851   35.192676  \n3    39.948656   90.493248  \n4    45.381316   36.262628  \n..         ...         ...  \n612  24.640462   69.191944  \n613  29.648928  124.808872  \n614  26.166072  119.559420  \n615  25.116750   37.155112  \n616  45.745974  114.842372  \n\n[617 rows x 47 columns]",
            "text/html": "<div>\n<style scoped>\n    .dataframe tbody tr th:only-of-type {\n        vertical-align: middle;\n    }\n\n    .dataframe tbody tr th {\n        vertical-align: top;\n    }\n\n    .dataframe thead th {\n        text-align: right;\n    }\n</style>\n<table border=\"1\" class=\"dataframe\">\n  <thead>\n    <tr style=\"text-align: right;\">\n      <th></th>\n      <th>AB</th>\n      <th>AF</th>\n      <th>AH</th>\n      <th>AM</th>\n      <th>AR</th>\n      <th>AX</th>\n      <th>AY</th>\n      <th>AZ</th>\n      <th>BC</th>\n      <th>BD</th>\n      <th>...</th>\n      <th>EU</th>\n      <th>FD</th>\n      <th>FE</th>\n      <th>FI</th>\n      <th>FR</th>\n      <th>GB</th>\n      <th>GE</th>\n      <th>GF</th>\n      <th>GH</th>\n      <th>GI</th>\n    </tr>\n  </thead>\n  <tbody>\n    <tr>\n      <th>0</th>\n      <td>0.209377</td>\n      <td>3109.03329</td>\n      <td>85.200147</td>\n      <td>22.394407</td>\n      <td>8.138688</td>\n      <td>0.699861</td>\n      <td>0.025578</td>\n      <td>9.812214</td>\n      <td>5.555634</td>\n      <td>4126.58731</td>\n      <td>...</td>\n      <td>3.828384</td>\n      <td>10.265073</td>\n      <td>9028.291921</td>\n      <td>3.583450</td>\n      <td>1.73855</td>\n      <td>11.339138</td>\n      <td>72.611063</td>\n      <td>2003.810319</td>\n      <td>22.136229</td>\n      <td>69.834944</td>\n    </tr>\n    <tr>\n      <th>1</th>\n      <td>0.145282</td>\n      <td>978.76416</td>\n      <td>85.200147</td>\n      <td>36.968889</td>\n      <td>8.138688</td>\n      <td>3.632190</td>\n      <td>0.025578</td>\n      <td>13.517790</td>\n      <td>1.229900</td>\n      <td>5496.92824</td>\n      <td>...</td>\n      <td>52.260480</td>\n      <td>0.296850</td>\n      <td>6785.003474</td>\n      <td>10.358927</td>\n      <td>0.49706</td>\n      <td>9.292698</td>\n      <td>72.611063</td>\n      <td>27981.562750</td>\n      <td>29.135430</td>\n      <td>32.131996</td>\n    </tr>\n    <tr>\n      <th>2</th>\n      <td>0.470030</td>\n      <td>2635.10654</td>\n      <td>85.200147</td>\n      <td>32.360553</td>\n      <td>8.138688</td>\n      <td>6.732840</td>\n      <td>0.025578</td>\n      <td>12.824570</td>\n      <td>1.229900</td>\n      <td>5135.78024</td>\n      <td>...</td>\n      <td>5.390628</td>\n      <td>8.745201</td>\n      <td>8338.906181</td>\n      <td>11.626917</td>\n      <td>0.97556</td>\n      <td>37.077772</td>\n      <td>88.609437</td>\n      <td>13676.957810</td>\n      <td>28.022851</td>\n      <td>35.192676</td>\n    </tr>\n    <tr>\n      <th>3</th>\n      <td>0.252107</td>\n      <td>3819.65177</td>\n      <td>120.201618</td>\n      <td>77.112203</td>\n      <td>8.138688</td>\n      <td>3.685344</td>\n      <td>0.025578</td>\n      <td>11.053708</td>\n      <td>1.229900</td>\n      <td>4169.67738</td>\n      <td>...</td>\n      <td>31.323372</td>\n      <td>7.884336</td>\n      <td>10965.766040</td>\n      <td>14.852022</td>\n      <td>0.49706</td>\n      <td>18.529584</td>\n      <td>82.416803</td>\n      <td>2094.262452</td>\n      <td>39.948656</td>\n      <td>90.493248</td>\n    </tr>\n    <tr>\n      <th>4</th>\n      <td>0.380297</td>\n      <td>3733.04844</td>\n      <td>85.200147</td>\n      <td>14.103738</td>\n      <td>8.138688</td>\n      <td>3.942255</td>\n      <td>0.054810</td>\n      <td>3.396778</td>\n      <td>102.151980</td>\n      <td>5728.73412</td>\n      <td>...</td>\n      <td>51.141336</td>\n      <td>4.274640</td>\n      <td>16198.049590</td>\n      <td>13.666727</td>\n      <td>48.50134</td>\n      <td>16.408728</td>\n      <td>146.109943</td>\n      <td>8524.370502</td>\n      <td>45.381316</td>\n      <td>36.262628</td>\n    </tr>\n    <tr>\n      <th>...</th>\n      <td>...</td>\n      <td>...</td>\n      <td>...</td>\n      <td>...</td>\n      <td>...</td>\n      <td>...</td>\n      <td>...</td>\n      <td>...</td>\n      <td>...</td>\n      <td>...</td>\n      <td>...</td>\n      <td>...</td>\n      <td>...</td>\n      <td>...</td>\n      <td>...</td>\n      <td>...</td>\n      <td>...</td>\n      <td>...</td>\n      <td>...</td>\n      <td>...</td>\n      <td>...</td>\n    </tr>\n    <tr>\n      <th>612</th>\n      <td>0.149555</td>\n      <td>3130.05946</td>\n      <td>123.763599</td>\n      <td>9.513984</td>\n      <td>13.020852</td>\n      <td>3.499305</td>\n      <td>0.077343</td>\n      <td>8.545512</td>\n      <td>2.804172</td>\n      <td>4157.68439</td>\n      <td>...</td>\n      <td>65.821872</td>\n      <td>0.296850</td>\n      <td>17167.209610</td>\n      <td>9.879296</td>\n      <td>1.26092</td>\n      <td>8.967128</td>\n      <td>217.148554</td>\n      <td>8095.932828</td>\n      <td>24.640462</td>\n      <td>69.191944</td>\n    </tr>\n    <tr>\n      <th>613</th>\n      <td>0.435846</td>\n      <td>5462.03438</td>\n      <td>85.200147</td>\n      <td>46.551007</td>\n      <td>15.973224</td>\n      <td>5.979825</td>\n      <td>0.025882</td>\n      <td>12.622906</td>\n      <td>3.777550</td>\n      <td>5654.07556</td>\n      <td>...</td>\n      <td>447.657600</td>\n      <td>6.067614</td>\n      <td>18460.330020</td>\n      <td>10.910227</td>\n      <td>1.24236</td>\n      <td>35.896418</td>\n      <td>496.994214</td>\n      <td>3085.308063</td>\n      <td>29.648928</td>\n      <td>124.808872</td>\n    </tr>\n    <tr>\n      <th>614</th>\n      <td>0.427300</td>\n      <td>2459.10720</td>\n      <td>130.138587</td>\n      <td>55.355778</td>\n      <td>10.005552</td>\n      <td>8.070549</td>\n      <td>0.025578</td>\n      <td>15.408390</td>\n      <td>1.229900</td>\n      <td>5888.87769</td>\n      <td>...</td>\n      <td>3.828384</td>\n      <td>0.296850</td>\n      <td>5088.922912</td>\n      <td>12.029366</td>\n      <td>0.49706</td>\n      <td>19.962092</td>\n      <td>128.896894</td>\n      <td>6474.652866</td>\n      <td>26.166072</td>\n      <td>119.559420</td>\n    </tr>\n    <tr>\n      <th>615</th>\n      <td>0.363205</td>\n      <td>1263.53524</td>\n      <td>85.200147</td>\n      <td>23.685856</td>\n      <td>8.138688</td>\n      <td>7.981959</td>\n      <td>0.025578</td>\n      <td>7.524588</td>\n      <td>1.229900</td>\n      <td>4517.86560</td>\n      <td>...</td>\n      <td>8.259384</td>\n      <td>6.192291</td>\n      <td>6464.250832</td>\n      <td>8.026928</td>\n      <td>0.78764</td>\n      <td>24.594488</td>\n      <td>72.611063</td>\n      <td>1965.343176</td>\n      <td>25.116750</td>\n      <td>37.155112</td>\n    </tr>\n    <tr>\n      <th>616</th>\n      <td>0.482849</td>\n      <td>2672.53426</td>\n      <td>546.663930</td>\n      <td>112.006102</td>\n      <td>8.138688</td>\n      <td>3.198099</td>\n      <td>0.116928</td>\n      <td>3.396778</td>\n      <td>7.948668</td>\n      <td>2818.01707</td>\n      <td>...</td>\n      <td>78.370464</td>\n      <td>0.296850</td>\n      <td>5895.352262</td>\n      <td>7.745765</td>\n      <td>1.14492</td>\n      <td>13.673940</td>\n      <td>72.611063</td>\n      <td>6850.484442</td>\n      <td>45.745974</td>\n      <td>114.842372</td>\n    </tr>\n  </tbody>\n</table>\n<p>617 rows × 47 columns</p>\n</div>"
          },
          "metadata": {}
        }
      ]
    },
    {
      "cell_type": "markdown",
      "source": [
        "Grab the y column or outcome data."
      ],
      "metadata": {
        "id": "ANu-y0c-UPpR"
      }
    },
    {
      "cell_type": "code",
      "source": [
        "y = df.iloc[ : , -1]\n",
        "y"
      ],
      "metadata": {
        "execution": {
          "iopub.status.busy": "2023-08-07T23:21:03.952805Z",
          "iopub.execute_input": "2023-08-07T23:21:03.953091Z",
          "iopub.status.idle": "2023-08-07T23:21:03.964653Z",
          "shell.execute_reply.started": "2023-08-07T23:21:03.953065Z",
          "shell.execute_reply": "2023-08-07T23:21:03.963761Z"
        },
        "trusted": true,
        "id": "iewd9WrfUPpR",
        "outputId": "61439cf6-3d9e-4bce-ded1-bc9ec85cb17f"
      },
      "execution_count": null,
      "outputs": [
        {
          "execution_count": 12,
          "output_type": "execute_result",
          "data": {
            "text/plain": "0      1\n1      0\n2      0\n3      0\n4      1\n      ..\n612    0\n613    0\n614    0\n615    0\n616    0\nName: Class, Length: 617, dtype: int64"
          },
          "metadata": {}
        }
      ]
    },
    {
      "cell_type": "markdown",
      "source": [
        "### Grab Top 25 Important Variables using ANOVA."
      ],
      "metadata": {
        "id": "TfA4_U6KUPpR"
      }
    },
    {
      "cell_type": "markdown",
      "source": [
        "Now, out of the data, we want to select the top 25 important variables using ANOVA. ANOVA (Analysis of Variance) is a statistical method that is used to determine the significance of groups of variables and it can be used for feature selection.\n",
        "\n",
        "Some features may add noise, redundancy or could be irrelevant, which can negatively impact the performance of the model. Therefore, feature selection techniques are used to select the most relevant features in your dataset.\n",
        "\n",
        "Print the top 25 column labels."
      ],
      "metadata": {
        "id": "JBqlHpQFUPpR"
      }
    },
    {
      "cell_type": "code",
      "source": [
        "selector = SelectKBest(score_func=f_classif, k=25)\n",
        "X_selected = selector.fit_transform(X,y)\n",
        "\n",
        "# Get the selected feature indices\n",
        "feature_indices = selector.get_support(indices=True)\n",
        "\n",
        "# Get the names of the selected features\n",
        "selected_features = X.columns[feature_indices]\n",
        "\n",
        "# Create a new DataFrame with only the selected features\n",
        "selected_data = df[selected_features]\n",
        "# Print the selected features\n",
        "print(selected_features)"
      ],
      "metadata": {
        "execution": {
          "iopub.status.busy": "2023-08-07T23:21:03.965912Z",
          "iopub.execute_input": "2023-08-07T23:21:03.966201Z",
          "iopub.status.idle": "2023-08-07T23:21:03.984653Z",
          "shell.execute_reply.started": "2023-08-07T23:21:03.966175Z",
          "shell.execute_reply": "2023-08-07T23:21:03.983595Z"
        },
        "trusted": true,
        "id": "1keb5lLsUPpR",
        "outputId": "325bb8c2-6dd9-401f-f6b0-73887390fcba"
      },
      "execution_count": null,
      "outputs": [
        {
          "name": "stdout",
          "text": "Index(['AB', 'AF', 'AM', 'AX', 'BC', 'BD ', 'BN', 'BP', 'BZ', 'CD ', 'CF',\n       'CR', 'DA', 'DE', 'DH', 'DI', 'DL', 'EE', 'EH', 'EJ', 'FD ', 'FE', 'FI',\n       'FR', 'GF'],\n      dtype='object')\n",
          "output_type": "stream"
        }
      ]
    },
    {
      "cell_type": "markdown",
      "source": [
        "Use the top 25 column labels to recreate the dataframe."
      ],
      "metadata": {
        "id": "yMeqhD0rUPpR"
      }
    },
    {
      "cell_type": "code",
      "source": [
        "selected_vars = df[['AB', 'AF', 'AM', 'AX', 'BC', 'BD ', 'BN', 'BP', 'BZ', 'CD ', 'CF',\n",
        "       'CR', 'DA', 'DE', 'DH', 'DI', 'DL', 'EE', 'EH', 'EJ', 'FD ', 'FE', 'FI',\n",
        "       'FR', 'GF']]\n",
        "\n",
        "x = selected_vars\n",
        "x"
      ],
      "metadata": {
        "execution": {
          "iopub.status.busy": "2023-08-07T23:21:03.989333Z",
          "iopub.execute_input": "2023-08-07T23:21:03.989816Z",
          "iopub.status.idle": "2023-08-07T23:21:04.024390Z",
          "shell.execute_reply.started": "2023-08-07T23:21:03.989784Z",
          "shell.execute_reply": "2023-08-07T23:21:04.023290Z"
        },
        "trusted": true,
        "id": "UEs6wfUvUPpR",
        "outputId": "fba84f6b-5372-44ed-dcc8-630041f32ae3"
      },
      "execution_count": null,
      "outputs": [
        {
          "execution_count": 14,
          "output_type": "execute_result",
          "data": {
            "text/plain": "           AB          AF          AM        AX          BC         BD   \\\n0    0.209377  3109.03329   22.394407  0.699861    5.555634  4126.58731   \n1    0.145282   978.76416   36.968889  3.632190    1.229900  5496.92824   \n2    0.470030  2635.10654   32.360553  6.732840    1.229900  5135.78024   \n3    0.252107  3819.65177   77.112203  3.685344    1.229900  4169.67738   \n4    0.380297  3733.04844   14.103738  3.942255  102.151980  5728.73412   \n..        ...         ...         ...       ...         ...         ...   \n612  0.149555  3130.05946    9.513984  3.499305    2.804172  4157.68439   \n613  0.435846  5462.03438   46.551007  5.979825    3.777550  5654.07556   \n614  0.427300  2459.10720   55.355778  8.070549    1.229900  5888.87769   \n615  0.363205  1263.53524   23.685856  7.981959    1.229900  4517.86560   \n616  0.482849  2672.53426  112.006102  3.198099    7.948668  2818.01707   \n\n          BN          BP          BZ         CD   ...          DI         DL  \\\n0    22.5984  175.638726  257.432377   23.387600  ...   89.245560   84.31664   \n1    19.4205  155.868030  257.432377   50.628208  ...  110.581815   75.74548   \n2    26.4825  128.988531  257.432377   85.955376  ...  120.056438   65.46984   \n3    23.6577  237.282264  257.432377   88.159360  ...  139.824570   71.57120   \n4    24.0108  324.546318  257.432377   72.644264  ...   97.920120   52.83888   \n..       ...         ...         ...         ...  ...         ...        ...   \n612  21.1860  167.877117  257.432377   55.163024  ...  176.977590   90.91832   \n613  27.1887  285.628059  257.432377   85.233928  ...  192.598575  123.17624   \n614  20.4798  178.661133  257.432377  142.680216  ...  218.915925  326.23620   \n615  19.0674  119.162529  257.432377  122.939496  ...  113.526045   96.97092   \n616  21.1860  306.127863  257.432377  271.240664  ...  156.345390   82.54008   \n\n           EE        EH  EJ        FD             FE         FI        FR  \\\n0    1.987283  0.949104   1  10.265073   9028.291921   3.583450   1.73855   \n1    0.858603  0.003042   0   0.296850   6785.003474  10.358927   0.49706   \n2    8.146651  0.377208   1   8.745201   8338.906181  11.626917   0.97556   \n3    3.813326  0.614484   1   7.884336  10965.766040  14.852022   0.49706   \n4    3.490846  0.164268   1   4.274640  16198.049590  13.666727  48.50134   \n..        ...       ...  ..        ...           ...        ...       ...   \n612  1.354416  0.003042   0   0.296850  17167.209610   9.879296   1.26092   \n613  0.753797  0.139932   1   6.067614  18460.330020  10.910227   1.24236   \n614  2.225112  0.003042   0   0.296850   5088.922912  12.029366   0.49706   \n615  1.628524  0.139932   1   6.192291   6464.250832   8.026928   0.78764   \n616  2.374259  0.003042   0   0.296850   5895.352262   7.745765   1.14492   \n\n               GF  \n0     2003.810319  \n1    27981.562750  \n2    13676.957810  \n3     2094.262452  \n4     8524.370502  \n..            ...  \n612   8095.932828  \n613   3085.308063  \n614   6474.652866  \n615   1965.343176  \n616   6850.484442  \n\n[617 rows x 25 columns]",
            "text/html": "<div>\n<style scoped>\n    .dataframe tbody tr th:only-of-type {\n        vertical-align: middle;\n    }\n\n    .dataframe tbody tr th {\n        vertical-align: top;\n    }\n\n    .dataframe thead th {\n        text-align: right;\n    }\n</style>\n<table border=\"1\" class=\"dataframe\">\n  <thead>\n    <tr style=\"text-align: right;\">\n      <th></th>\n      <th>AB</th>\n      <th>AF</th>\n      <th>AM</th>\n      <th>AX</th>\n      <th>BC</th>\n      <th>BD</th>\n      <th>BN</th>\n      <th>BP</th>\n      <th>BZ</th>\n      <th>CD</th>\n      <th>...</th>\n      <th>DI</th>\n      <th>DL</th>\n      <th>EE</th>\n      <th>EH</th>\n      <th>EJ</th>\n      <th>FD</th>\n      <th>FE</th>\n      <th>FI</th>\n      <th>FR</th>\n      <th>GF</th>\n    </tr>\n  </thead>\n  <tbody>\n    <tr>\n      <th>0</th>\n      <td>0.209377</td>\n      <td>3109.03329</td>\n      <td>22.394407</td>\n      <td>0.699861</td>\n      <td>5.555634</td>\n      <td>4126.58731</td>\n      <td>22.5984</td>\n      <td>175.638726</td>\n      <td>257.432377</td>\n      <td>23.387600</td>\n      <td>...</td>\n      <td>89.245560</td>\n      <td>84.31664</td>\n      <td>1.987283</td>\n      <td>0.949104</td>\n      <td>1</td>\n      <td>10.265073</td>\n      <td>9028.291921</td>\n      <td>3.583450</td>\n      <td>1.73855</td>\n      <td>2003.810319</td>\n    </tr>\n    <tr>\n      <th>1</th>\n      <td>0.145282</td>\n      <td>978.76416</td>\n      <td>36.968889</td>\n      <td>3.632190</td>\n      <td>1.229900</td>\n      <td>5496.92824</td>\n      <td>19.4205</td>\n      <td>155.868030</td>\n      <td>257.432377</td>\n      <td>50.628208</td>\n      <td>...</td>\n      <td>110.581815</td>\n      <td>75.74548</td>\n      <td>0.858603</td>\n      <td>0.003042</td>\n      <td>0</td>\n      <td>0.296850</td>\n      <td>6785.003474</td>\n      <td>10.358927</td>\n      <td>0.49706</td>\n      <td>27981.562750</td>\n    </tr>\n    <tr>\n      <th>2</th>\n      <td>0.470030</td>\n      <td>2635.10654</td>\n      <td>32.360553</td>\n      <td>6.732840</td>\n      <td>1.229900</td>\n      <td>5135.78024</td>\n      <td>26.4825</td>\n      <td>128.988531</td>\n      <td>257.432377</td>\n      <td>85.955376</td>\n      <td>...</td>\n      <td>120.056438</td>\n      <td>65.46984</td>\n      <td>8.146651</td>\n      <td>0.377208</td>\n      <td>1</td>\n      <td>8.745201</td>\n      <td>8338.906181</td>\n      <td>11.626917</td>\n      <td>0.97556</td>\n      <td>13676.957810</td>\n    </tr>\n    <tr>\n      <th>3</th>\n      <td>0.252107</td>\n      <td>3819.65177</td>\n      <td>77.112203</td>\n      <td>3.685344</td>\n      <td>1.229900</td>\n      <td>4169.67738</td>\n      <td>23.6577</td>\n      <td>237.282264</td>\n      <td>257.432377</td>\n      <td>88.159360</td>\n      <td>...</td>\n      <td>139.824570</td>\n      <td>71.57120</td>\n      <td>3.813326</td>\n      <td>0.614484</td>\n      <td>1</td>\n      <td>7.884336</td>\n      <td>10965.766040</td>\n      <td>14.852022</td>\n      <td>0.49706</td>\n      <td>2094.262452</td>\n    </tr>\n    <tr>\n      <th>4</th>\n      <td>0.380297</td>\n      <td>3733.04844</td>\n      <td>14.103738</td>\n      <td>3.942255</td>\n      <td>102.151980</td>\n      <td>5728.73412</td>\n      <td>24.0108</td>\n      <td>324.546318</td>\n      <td>257.432377</td>\n      <td>72.644264</td>\n      <td>...</td>\n      <td>97.920120</td>\n      <td>52.83888</td>\n      <td>3.490846</td>\n      <td>0.164268</td>\n      <td>1</td>\n      <td>4.274640</td>\n      <td>16198.049590</td>\n      <td>13.666727</td>\n      <td>48.50134</td>\n      <td>8524.370502</td>\n    </tr>\n    <tr>\n      <th>...</th>\n      <td>...</td>\n      <td>...</td>\n      <td>...</td>\n      <td>...</td>\n      <td>...</td>\n      <td>...</td>\n      <td>...</td>\n      <td>...</td>\n      <td>...</td>\n      <td>...</td>\n      <td>...</td>\n      <td>...</td>\n      <td>...</td>\n      <td>...</td>\n      <td>...</td>\n      <td>...</td>\n      <td>...</td>\n      <td>...</td>\n      <td>...</td>\n      <td>...</td>\n      <td>...</td>\n    </tr>\n    <tr>\n      <th>612</th>\n      <td>0.149555</td>\n      <td>3130.05946</td>\n      <td>9.513984</td>\n      <td>3.499305</td>\n      <td>2.804172</td>\n      <td>4157.68439</td>\n      <td>21.1860</td>\n      <td>167.877117</td>\n      <td>257.432377</td>\n      <td>55.163024</td>\n      <td>...</td>\n      <td>176.977590</td>\n      <td>90.91832</td>\n      <td>1.354416</td>\n      <td>0.003042</td>\n      <td>0</td>\n      <td>0.296850</td>\n      <td>17167.209610</td>\n      <td>9.879296</td>\n      <td>1.26092</td>\n      <td>8095.932828</td>\n    </tr>\n    <tr>\n      <th>613</th>\n      <td>0.435846</td>\n      <td>5462.03438</td>\n      <td>46.551007</td>\n      <td>5.979825</td>\n      <td>3.777550</td>\n      <td>5654.07556</td>\n      <td>27.1887</td>\n      <td>285.628059</td>\n      <td>257.432377</td>\n      <td>85.233928</td>\n      <td>...</td>\n      <td>192.598575</td>\n      <td>123.17624</td>\n      <td>0.753797</td>\n      <td>0.139932</td>\n      <td>1</td>\n      <td>6.067614</td>\n      <td>18460.330020</td>\n      <td>10.910227</td>\n      <td>1.24236</td>\n      <td>3085.308063</td>\n    </tr>\n    <tr>\n      <th>614</th>\n      <td>0.427300</td>\n      <td>2459.10720</td>\n      <td>55.355778</td>\n      <td>8.070549</td>\n      <td>1.229900</td>\n      <td>5888.87769</td>\n      <td>20.4798</td>\n      <td>178.661133</td>\n      <td>257.432377</td>\n      <td>142.680216</td>\n      <td>...</td>\n      <td>218.915925</td>\n      <td>326.23620</td>\n      <td>2.225112</td>\n      <td>0.003042</td>\n      <td>0</td>\n      <td>0.296850</td>\n      <td>5088.922912</td>\n      <td>12.029366</td>\n      <td>0.49706</td>\n      <td>6474.652866</td>\n    </tr>\n    <tr>\n      <th>615</th>\n      <td>0.363205</td>\n      <td>1263.53524</td>\n      <td>23.685856</td>\n      <td>7.981959</td>\n      <td>1.229900</td>\n      <td>4517.86560</td>\n      <td>19.0674</td>\n      <td>119.162529</td>\n      <td>257.432377</td>\n      <td>122.939496</td>\n      <td>...</td>\n      <td>113.526045</td>\n      <td>96.97092</td>\n      <td>1.628524</td>\n      <td>0.139932</td>\n      <td>1</td>\n      <td>6.192291</td>\n      <td>6464.250832</td>\n      <td>8.026928</td>\n      <td>0.78764</td>\n      <td>1965.343176</td>\n    </tr>\n    <tr>\n      <th>616</th>\n      <td>0.482849</td>\n      <td>2672.53426</td>\n      <td>112.006102</td>\n      <td>3.198099</td>\n      <td>7.948668</td>\n      <td>2818.01707</td>\n      <td>21.1860</td>\n      <td>306.127863</td>\n      <td>257.432377</td>\n      <td>271.240664</td>\n      <td>...</td>\n      <td>156.345390</td>\n      <td>82.54008</td>\n      <td>2.374259</td>\n      <td>0.003042</td>\n      <td>0</td>\n      <td>0.296850</td>\n      <td>5895.352262</td>\n      <td>7.745765</td>\n      <td>1.14492</td>\n      <td>6850.484442</td>\n    </tr>\n  </tbody>\n</table>\n<p>617 rows × 25 columns</p>\n</div>"
          },
          "metadata": {}
        }
      ]
    },
    {
      "cell_type": "markdown",
      "source": [
        "### Correct Imbalance to Avoid Bias"
      ],
      "metadata": {
        "id": "egnngyTYUPpR"
      }
    },
    {
      "cell_type": "markdown",
      "source": [
        "The `RandomOverSampler` is a technique used to handle imbalanced data sets. It works by randomly duplicating examples in the minority class (class 1), in this case, making more copies of the minority class instances until the classes are balanced.\n",
        "\n",
        "Overall, this is done to avoid bias in the model on untrained data."
      ],
      "metadata": {
        "id": "cReMZTizUPpS"
      }
    },
    {
      "cell_type": "code",
      "source": [
        "from imblearn.over_sampling import RandomOverSampler\n",
        "sm = RandomOverSampler()\n",
        "x,y = sm.fit_resample(x,y)"
      ],
      "metadata": {
        "execution": {
          "iopub.status.busy": "2023-08-07T23:21:04.025601Z",
          "iopub.execute_input": "2023-08-07T23:21:04.026000Z",
          "iopub.status.idle": "2023-08-07T23:21:04.230461Z",
          "shell.execute_reply.started": "2023-08-07T23:21:04.025972Z",
          "shell.execute_reply": "2023-08-07T23:21:04.229611Z"
        },
        "trusted": true,
        "id": "iTG-zbgrUPpS"
      },
      "execution_count": null,
      "outputs": []
    },
    {
      "cell_type": "markdown",
      "source": [
        "### Normalize Data\n",
        "`MinMaxScaler` is a technique in feature scaling that helps to normalize the data. It essentially scales and translates each feature individually such that it is in the given range on the training set, i.e., between zero and one."
      ],
      "metadata": {
        "id": "qics-V9xUPpS"
      }
    },
    {
      "cell_type": "code",
      "source": [
        "#minmaxscaler\n",
        "ms = MinMaxScaler()\n",
        "Xsc = ms.fit_transform(x)\n",
        "Xsc"
      ],
      "metadata": {
        "execution": {
          "iopub.status.busy": "2023-08-07T23:21:04.231544Z",
          "iopub.execute_input": "2023-08-07T23:21:04.232444Z",
          "iopub.status.idle": "2023-08-07T23:21:04.245537Z",
          "shell.execute_reply.started": "2023-08-07T23:21:04.232381Z",
          "shell.execute_reply": "2023-08-07T23:21:04.244405Z"
        },
        "trusted": true,
        "id": "QFZCy40qUPpS",
        "outputId": "f29ee0a0-e934-4dc0-bb3e-728a4606bb66"
      },
      "execution_count": null,
      "outputs": [
        {
          "execution_count": 16,
          "output_type": "execute_result",
          "data": {
            "text/plain": "array([[2.10822207e-02, 1.02347050e-01, 3.06322940e-02, ...,\n        0.00000000e+00, 9.98198998e-04, 1.38462409e-02],\n       [1.05411103e-02, 2.75892080e-02, 5.38644577e-02, ...,\n        2.09977789e-01, 0.00000000e+00, 1.94527063e-01],\n       [6.39494027e-02, 8.57154698e-02, 4.65186311e-02, ...,\n        2.49273877e-01, 3.84729817e-04, 9.50354775e-02],\n       ...,\n       [2.52986648e-02, 4.96921496e-02, 1.41288679e-02, ...,\n        3.57081838e-01, 3.22473538e-04, 1.59245422e-02],\n       [8.85453268e-02, 1.39095166e-01, 4.32110345e-02, ...,\n        1.86570989e-01, 7.45676336e-04, 4.92791254e-02],\n       [1.08924807e-01, 2.40740094e-01, 2.76209001e-02, ...,\n        1.14129506e-01, 0.00000000e+00, 7.62084991e-02]])"
          },
          "metadata": {}
        }
      ]
    },
    {
      "cell_type": "markdown",
      "source": [
        "Now we finally can split the data."
      ],
      "metadata": {
        "id": "gB8JTNUQUPpS"
      }
    },
    {
      "cell_type": "code",
      "source": [
        "#splitting to test and train data\n",
        "X_train, X_test, y_train, y_test = train_test_split(Xsc,y,test_size=0.1,random_state=4)"
      ],
      "metadata": {
        "execution": {
          "iopub.status.busy": "2023-08-07T23:21:04.248186Z",
          "iopub.execute_input": "2023-08-07T23:21:04.248538Z",
          "iopub.status.idle": "2023-08-07T23:21:04.255086Z",
          "shell.execute_reply.started": "2023-08-07T23:21:04.248507Z",
          "shell.execute_reply": "2023-08-07T23:21:04.254208Z"
        },
        "trusted": true,
        "id": "mX38O0x8UPpS"
      },
      "execution_count": null,
      "outputs": []
    },
    {
      "cell_type": "markdown",
      "source": [
        "### Build Models\n",
        "Create a dictionary of classifiers"
      ],
      "metadata": {
        "id": "YJy7ng7GUPpZ"
      }
    },
    {
      "cell_type": "code",
      "source": [
        "# Create a dictionary of classifiers\n",
        "classifiers = {\n",
        "    \"KNN\": KNeighborsClassifier(algorithm='auto',n_neighbors=9,weights='distance'),\n",
        "    \"SVC\": SVC(C=10, gamma =1, kernel= 'rbf'),\n",
        "    \"GNB\": GaussianNB(),\n",
        "    \"RF\": RandomForestClassifier(criterion= 'entropy', max_depth= None, min_samples_leaf= 1, min_samples_split= 4,n_estimators= 200),\n",
        "    \"XGB\": XGBClassifier()\n",
        "}"
      ],
      "metadata": {
        "execution": {
          "iopub.status.busy": "2023-08-07T23:21:04.256283Z",
          "iopub.execute_input": "2023-08-07T23:21:04.256610Z",
          "iopub.status.idle": "2023-08-07T23:21:04.265975Z",
          "shell.execute_reply.started": "2023-08-07T23:21:04.256582Z",
          "shell.execute_reply": "2023-08-07T23:21:04.265104Z"
        },
        "trusted": true,
        "id": "J1dxMK41UPpZ"
      },
      "execution_count": null,
      "outputs": []
    },
    {
      "cell_type": "markdown",
      "source": [
        "Create an empty dictionary to store the cross-validation scores. Then, we use a for loop to to grab the prediction of every model and create a classification report for each.\n",
        "\n",
        "We display the classification reports below as well as the 5-fold cross-validation accuracy scores for a given pipeline."
      ],
      "metadata": {
        "id": "xvSajBAjUPpZ"
      }
    },
    {
      "cell_type": "code",
      "source": [
        "from sklearn.pipeline import Pipeline\n",
        "from sklearn.model_selection import cross_val_score\n",
        "\n",
        "# Dictionary to store the cross-validation scores\n",
        "cv_scores = {}\n",
        "\n",
        "# Cross-validation and store the results\n",
        "for name, classifier in classifiers.items():\n",
        "    pipeline = Pipeline([\n",
        "        ('classifier', classifier)\n",
        "    ])\n",
        "    pipeline.fit(X_train, y_train)\n",
        "    predictions = pipeline.predict(X_test)\n",
        "    print(f\"Classification report for {name}:\\n\")\n",
        "    print(classification_report(y_test, predictions))\n",
        "\n",
        "    scores = cross_val_score(pipeline, X_train, y_train, cv=5, scoring='accuracy')\n",
        "    cv_scores[name] = scores\n",
        "\n",
        "cv_scores"
      ],
      "metadata": {
        "execution": {
          "iopub.status.busy": "2023-08-07T23:21:04.267504Z",
          "iopub.execute_input": "2023-08-07T23:21:04.268246Z",
          "iopub.status.idle": "2023-08-07T23:21:09.671541Z",
          "shell.execute_reply.started": "2023-08-07T23:21:04.268208Z",
          "shell.execute_reply": "2023-08-07T23:21:09.670563Z"
        },
        "trusted": true,
        "id": "5ZqbLP3hUPpZ",
        "outputId": "72047442-6979-42a3-8d2b-9a32aa43983d"
      },
      "execution_count": null,
      "outputs": [
        {
          "name": "stdout",
          "text": "Classification report for KNN:\n\n              precision    recall  f1-score   support\n\n           0       1.00      0.86      0.92        49\n           1       0.88      1.00      0.94        53\n\n    accuracy                           0.93       102\n   macro avg       0.94      0.93      0.93       102\nweighted avg       0.94      0.93      0.93       102\n\nClassification report for SVC:\n\n              precision    recall  f1-score   support\n\n           0       0.85      0.82      0.83        49\n           1       0.84      0.87      0.85        53\n\n    accuracy                           0.84       102\n   macro avg       0.84      0.84      0.84       102\nweighted avg       0.84      0.84      0.84       102\n\nClassification report for GNB:\n\n              precision    recall  f1-score   support\n\n           0       0.57      0.96      0.72        49\n           1       0.90      0.34      0.49        53\n\n    accuracy                           0.64       102\n   macro avg       0.74      0.65      0.61       102\nweighted avg       0.74      0.64      0.60       102\n\nClassification report for RF:\n\n              precision    recall  f1-score   support\n\n           0       1.00      0.98      0.99        49\n           1       0.98      1.00      0.99        53\n\n    accuracy                           0.99       102\n   macro avg       0.99      0.99      0.99       102\nweighted avg       0.99      0.99      0.99       102\n\nClassification report for XGB:\n\n              precision    recall  f1-score   support\n\n           0       1.00      0.94      0.97        49\n           1       0.95      1.00      0.97        53\n\n    accuracy                           0.97       102\n   macro avg       0.97      0.97      0.97       102\nweighted avg       0.97      0.97      0.97       102\n\n",
          "output_type": "stream"
        },
        {
          "execution_count": 19,
          "output_type": "execute_result",
          "data": {
            "text/plain": "{'KNN': array([0.91847826, 0.90710383, 0.93989071, 0.8852459 , 0.8579235 ]),\n 'SVC': array([0.90217391, 0.8579235 , 0.91803279, 0.84153005, 0.89617486]),\n 'GNB': array([0.625     , 0.66666667, 0.73770492, 0.66666667, 0.70491803]),\n 'RF': array([0.98369565, 1.        , 0.97814208, 0.95628415, 0.98360656]),\n 'XGB': array([0.9673913 , 0.96174863, 0.97814208, 0.93989071, 0.9726776 ])}"
          },
          "metadata": {}
        }
      ]
    },
    {
      "cell_type": "markdown",
      "source": [
        "Find the best Model with the highest mean score. **Random Forest** was the best model with a validation score of `0.975`!"
      ],
      "metadata": {
        "id": "Wlb8CLY5UPpd"
      }
    },
    {
      "cell_type": "code",
      "source": [
        "# Find the model with the highest mean score\n",
        "best_model_name = max(cv_scores, key=lambda k: np.mean(cv_scores[k]))\n",
        "best_model = classifiers[best_model_name]\n",
        "best_score = np.mean(cv_scores[best_model_name])\n",
        "\n",
        "print(f\"The best model is {best_model_name} with a cross-validation score of {best_score}!\")"
      ],
      "metadata": {
        "execution": {
          "iopub.status.busy": "2023-08-07T23:21:09.672708Z",
          "iopub.execute_input": "2023-08-07T23:21:09.673756Z",
          "iopub.status.idle": "2023-08-07T23:21:09.680448Z",
          "shell.execute_reply.started": "2023-08-07T23:21:09.673724Z",
          "shell.execute_reply": "2023-08-07T23:21:09.679474Z"
        },
        "trusted": true,
        "id": "_hHTTe1PUPpd",
        "outputId": "7c977801-9d01-446d-f0a9-f54abeeea82e"
      },
      "execution_count": null,
      "outputs": [
        {
          "name": "stdout",
          "text": "The best model is RF with a cross-validation score of 0.9803456878118318!\n",
          "output_type": "stream"
        }
      ]
    },
    {
      "cell_type": "markdown",
      "source": [
        "### Hyperparameter Tuning\n",
        "\n",
        "Use `GridSearchCV` from `Sklearn` in order to define a hyperparameter grid for a **Random Forest** classifier.\n",
        "It specifies:\n",
        "* different values to test for the number of trees (`n_estimators`)\n",
        "* maximum depth of trees (`max_depth`)\n",
        "* minimum samples required to split an internal node (`min_samples_split`)\n",
        "* minimum number of samples required to be at a leaf node (`min_samples_leaf`)"
      ],
      "metadata": {
        "id": "B6SP8XxLUPpe"
      }
    },
    {
      "cell_type": "code",
      "source": [
        "# Hyperparameter grid for Random Forest\n",
        "param_grid_rf = {\n",
        "    'classifier__n_estimators': [100, 200, 300],\n",
        "    'classifier__max_depth': [None, 5, 10],\n",
        "    'classifier__min_samples_split': [2, 5, 10],\n",
        "    'classifier__min_samples_leaf': [1, 2, 4],\n",
        "}"
      ],
      "metadata": {
        "execution": {
          "iopub.status.busy": "2023-08-07T23:21:09.681633Z",
          "iopub.execute_input": "2023-08-07T23:21:09.682034Z",
          "iopub.status.idle": "2023-08-07T23:21:09.699083Z",
          "shell.execute_reply.started": "2023-08-07T23:21:09.681892Z",
          "shell.execute_reply": "2023-08-07T23:21:09.697996Z"
        },
        "trusted": true,
        "id": "Z71bDWu8UPpe"
      },
      "execution_count": null,
      "outputs": []
    },
    {
      "cell_type": "code",
      "source": [
        "# SK Pipelines for the classifiers/models\n",
        "pipeline_rf = Pipeline([\n",
        "    ('classifier', RandomForestClassifier(random_state=42))\n",
        "])"
      ],
      "metadata": {
        "execution": {
          "iopub.status.busy": "2023-08-07T23:21:09.700563Z",
          "iopub.execute_input": "2023-08-07T23:21:09.701672Z",
          "iopub.status.idle": "2023-08-07T23:21:09.716491Z",
          "shell.execute_reply.started": "2023-08-07T23:21:09.701631Z",
          "shell.execute_reply": "2023-08-07T23:21:09.715693Z"
        },
        "trusted": true,
        "id": "ItQlI2sJUPpe"
      },
      "execution_count": null,
      "outputs": []
    },
    {
      "cell_type": "markdown",
      "source": [
        "Conduct a grid search for the best hyperparameters of a Random Forest classifier.\n",
        "It uses:\n",
        "\n",
        "* A pipeline (`pipeline_rf`) which likely includes preprocessing steps followed by the Random Forest classifier.\n",
        "* The hyperparameter grid (`param_grid_rf`) you mentioned earlier.\n",
        "* A 5-fold cross-validation (`cv=5`).\n",
        "* Accuracy as the performance metric (`scoring='accuracy'`).\n",
        "* Parallel processing with `n_jobs=-1` to speed up the search by using all available CPU cores.\n",
        "\n",
        "After setting these configurations, it fits the grid search on the training data (`X_train and y_train`). Once this process is complete, the best hyperparameters for the Random Forest model will have been identified based on accuracy."
      ],
      "metadata": {
        "id": "CuaszCZXUPpe"
      }
    },
    {
      "cell_type": "code",
      "source": [
        "# Grid Search\n",
        "# For RF, attach pipeline and hyperparams to grid search, set num of CVs\n",
        "# n_jobs=-1: The number of jobs is set to the number of CPU cores in your machine\n",
        "grid_search_rf = GridSearchCV(pipeline_rf, param_grid_rf, cv=5, scoring='accuracy', n_jobs=-1)\n",
        "grid_search_rf.fit(X_train, y_train)"
      ],
      "metadata": {
        "execution": {
          "iopub.status.busy": "2023-08-07T23:21:09.717610Z",
          "iopub.execute_input": "2023-08-07T23:21:09.718574Z",
          "iopub.status.idle": "2023-08-07T23:22:42.955953Z",
          "shell.execute_reply.started": "2023-08-07T23:21:09.718543Z",
          "shell.execute_reply": "2023-08-07T23:22:42.954741Z"
        },
        "trusted": true,
        "id": "YSgBATdqUPpe",
        "outputId": "4a30085c-c15b-429c-d876-b12d8341d8b9"
      },
      "execution_count": null,
      "outputs": [
        {
          "name": "stderr",
          "text": "/opt/conda/lib/python3.10/site-packages/scipy/__init__.py:146: UserWarning: A NumPy version >=1.16.5 and <1.23.0 is required for this version of SciPy (detected version 1.23.5\n  warnings.warn(f\"A NumPy version >={np_minversion} and <{np_maxversion}\"\n/opt/conda/lib/python3.10/site-packages/scipy/__init__.py:146: UserWarning: A NumPy version >=1.16.5 and <1.23.0 is required for this version of SciPy (detected version 1.23.5\n  warnings.warn(f\"A NumPy version >={np_minversion} and <{np_maxversion}\"\n/opt/conda/lib/python3.10/site-packages/scipy/__init__.py:146: UserWarning: A NumPy version >=1.16.5 and <1.23.0 is required for this version of SciPy (detected version 1.23.5\n  warnings.warn(f\"A NumPy version >={np_minversion} and <{np_maxversion}\"\n/opt/conda/lib/python3.10/site-packages/scipy/__init__.py:146: UserWarning: A NumPy version >=1.16.5 and <1.23.0 is required for this version of SciPy (detected version 1.23.5\n  warnings.warn(f\"A NumPy version >={np_minversion} and <{np_maxversion}\"\n",
          "output_type": "stream"
        },
        {
          "execution_count": 23,
          "output_type": "execute_result",
          "data": {
            "text/plain": "GridSearchCV(cv=5,\n             estimator=Pipeline(steps=[('classifier',\n                                        RandomForestClassifier(random_state=42))]),\n             n_jobs=-1,\n             param_grid={'classifier__max_depth': [None, 5, 10],\n                         'classifier__min_samples_leaf': [1, 2, 4],\n                         'classifier__min_samples_split': [2, 5, 10],\n                         'classifier__n_estimators': [100, 200, 300]},\n             scoring='accuracy')",
            "text/html": "<style>#sk-container-id-1 {color: black;background-color: white;}#sk-container-id-1 pre{padding: 0;}#sk-container-id-1 div.sk-toggleable {background-color: white;}#sk-container-id-1 label.sk-toggleable__label {cursor: pointer;display: block;width: 100%;margin-bottom: 0;padding: 0.3em;box-sizing: border-box;text-align: center;}#sk-container-id-1 label.sk-toggleable__label-arrow:before {content: \"▸\";float: left;margin-right: 0.25em;color: #696969;}#sk-container-id-1 label.sk-toggleable__label-arrow:hover:before {color: black;}#sk-container-id-1 div.sk-estimator:hover label.sk-toggleable__label-arrow:before {color: black;}#sk-container-id-1 div.sk-toggleable__content {max-height: 0;max-width: 0;overflow: hidden;text-align: left;background-color: #f0f8ff;}#sk-container-id-1 div.sk-toggleable__content pre {margin: 0.2em;color: black;border-radius: 0.25em;background-color: #f0f8ff;}#sk-container-id-1 input.sk-toggleable__control:checked~div.sk-toggleable__content {max-height: 200px;max-width: 100%;overflow: auto;}#sk-container-id-1 input.sk-toggleable__control:checked~label.sk-toggleable__label-arrow:before {content: \"▾\";}#sk-container-id-1 div.sk-estimator input.sk-toggleable__control:checked~label.sk-toggleable__label {background-color: #d4ebff;}#sk-container-id-1 div.sk-label input.sk-toggleable__control:checked~label.sk-toggleable__label {background-color: #d4ebff;}#sk-container-id-1 input.sk-hidden--visually {border: 0;clip: rect(1px 1px 1px 1px);clip: rect(1px, 1px, 1px, 1px);height: 1px;margin: -1px;overflow: hidden;padding: 0;position: absolute;width: 1px;}#sk-container-id-1 div.sk-estimator {font-family: monospace;background-color: #f0f8ff;border: 1px dotted black;border-radius: 0.25em;box-sizing: border-box;margin-bottom: 0.5em;}#sk-container-id-1 div.sk-estimator:hover {background-color: #d4ebff;}#sk-container-id-1 div.sk-parallel-item::after {content: \"\";width: 100%;border-bottom: 1px solid gray;flex-grow: 1;}#sk-container-id-1 div.sk-label:hover label.sk-toggleable__label {background-color: #d4ebff;}#sk-container-id-1 div.sk-serial::before {content: \"\";position: absolute;border-left: 1px solid gray;box-sizing: border-box;top: 0;bottom: 0;left: 50%;z-index: 0;}#sk-container-id-1 div.sk-serial {display: flex;flex-direction: column;align-items: center;background-color: white;padding-right: 0.2em;padding-left: 0.2em;position: relative;}#sk-container-id-1 div.sk-item {position: relative;z-index: 1;}#sk-container-id-1 div.sk-parallel {display: flex;align-items: stretch;justify-content: center;background-color: white;position: relative;}#sk-container-id-1 div.sk-item::before, #sk-container-id-1 div.sk-parallel-item::before {content: \"\";position: absolute;border-left: 1px solid gray;box-sizing: border-box;top: 0;bottom: 0;left: 50%;z-index: -1;}#sk-container-id-1 div.sk-parallel-item {display: flex;flex-direction: column;z-index: 1;position: relative;background-color: white;}#sk-container-id-1 div.sk-parallel-item:first-child::after {align-self: flex-end;width: 50%;}#sk-container-id-1 div.sk-parallel-item:last-child::after {align-self: flex-start;width: 50%;}#sk-container-id-1 div.sk-parallel-item:only-child::after {width: 0;}#sk-container-id-1 div.sk-dashed-wrapped {border: 1px dashed gray;margin: 0 0.4em 0.5em 0.4em;box-sizing: border-box;padding-bottom: 0.4em;background-color: white;}#sk-container-id-1 div.sk-label label {font-family: monospace;font-weight: bold;display: inline-block;line-height: 1.2em;}#sk-container-id-1 div.sk-label-container {text-align: center;}#sk-container-id-1 div.sk-container {/* jupyter's `normalize.less` sets `[hidden] { display: none; }` but bootstrap.min.css set `[hidden] { display: none !important; }` so we also need the `!important` here to be able to override the default hidden behavior on the sphinx rendered scikit-learn.org. See: https://github.com/scikit-learn/scikit-learn/issues/21755 */display: inline-block !important;position: relative;}#sk-container-id-1 div.sk-text-repr-fallback {display: none;}</style><div id=\"sk-container-id-1\" class=\"sk-top-container\"><div class=\"sk-text-repr-fallback\"><pre>GridSearchCV(cv=5,\n             estimator=Pipeline(steps=[(&#x27;classifier&#x27;,\n                                        RandomForestClassifier(random_state=42))]),\n             n_jobs=-1,\n             param_grid={&#x27;classifier__max_depth&#x27;: [None, 5, 10],\n                         &#x27;classifier__min_samples_leaf&#x27;: [1, 2, 4],\n                         &#x27;classifier__min_samples_split&#x27;: [2, 5, 10],\n                         &#x27;classifier__n_estimators&#x27;: [100, 200, 300]},\n             scoring=&#x27;accuracy&#x27;)</pre><b>In a Jupyter environment, please rerun this cell to show the HTML representation or trust the notebook. <br />On GitHub, the HTML representation is unable to render, please try loading this page with nbviewer.org.</b></div><div class=\"sk-container\" hidden><div class=\"sk-item sk-dashed-wrapped\"><div class=\"sk-label-container\"><div class=\"sk-label sk-toggleable\"><input class=\"sk-toggleable__control sk-hidden--visually\" id=\"sk-estimator-id-1\" type=\"checkbox\" ><label for=\"sk-estimator-id-1\" class=\"sk-toggleable__label sk-toggleable__label-arrow\">GridSearchCV</label><div class=\"sk-toggleable__content\"><pre>GridSearchCV(cv=5,\n             estimator=Pipeline(steps=[(&#x27;classifier&#x27;,\n                                        RandomForestClassifier(random_state=42))]),\n             n_jobs=-1,\n             param_grid={&#x27;classifier__max_depth&#x27;: [None, 5, 10],\n                         &#x27;classifier__min_samples_leaf&#x27;: [1, 2, 4],\n                         &#x27;classifier__min_samples_split&#x27;: [2, 5, 10],\n                         &#x27;classifier__n_estimators&#x27;: [100, 200, 300]},\n             scoring=&#x27;accuracy&#x27;)</pre></div></div></div><div class=\"sk-parallel\"><div class=\"sk-parallel-item\"><div class=\"sk-item\"><div class=\"sk-label-container\"><div class=\"sk-label sk-toggleable\"><input class=\"sk-toggleable__control sk-hidden--visually\" id=\"sk-estimator-id-2\" type=\"checkbox\" ><label for=\"sk-estimator-id-2\" class=\"sk-toggleable__label sk-toggleable__label-arrow\">estimator: Pipeline</label><div class=\"sk-toggleable__content\"><pre>Pipeline(steps=[(&#x27;classifier&#x27;, RandomForestClassifier(random_state=42))])</pre></div></div></div><div class=\"sk-serial\"><div class=\"sk-item\"><div class=\"sk-serial\"><div class=\"sk-item\"><div class=\"sk-estimator sk-toggleable\"><input class=\"sk-toggleable__control sk-hidden--visually\" id=\"sk-estimator-id-3\" type=\"checkbox\" ><label for=\"sk-estimator-id-3\" class=\"sk-toggleable__label sk-toggleable__label-arrow\">RandomForestClassifier</label><div class=\"sk-toggleable__content\"><pre>RandomForestClassifier(random_state=42)</pre></div></div></div></div></div></div></div></div></div></div></div></div>"
          },
          "metadata": {}
        }
      ]
    },
    {
      "cell_type": "markdown",
      "source": [
        "Grab the best **Random Forest model** with the best parameters."
      ],
      "metadata": {
        "id": "NDv2xDGWUPpe"
      }
    },
    {
      "cell_type": "code",
      "source": [
        "# grab best RF model\n",
        "best_model_rf, best_score_rf = grid_search_rf.best_estimator_, grid_search_rf.best_score_"
      ],
      "metadata": {
        "execution": {
          "iopub.status.busy": "2023-08-07T23:22:42.957583Z",
          "iopub.execute_input": "2023-08-07T23:22:42.958098Z",
          "iopub.status.idle": "2023-08-07T23:22:42.962282Z",
          "shell.execute_reply.started": "2023-08-07T23:22:42.958064Z",
          "shell.execute_reply": "2023-08-07T23:22:42.961237Z"
        },
        "trusted": true,
        "id": "c1EMa25FUPpe"
      },
      "execution_count": null,
      "outputs": []
    },
    {
      "cell_type": "markdown",
      "source": [
        "Make predictions on the unseen data with the best model and calculate the accuracy scores by getting the test and prediction ratio."
      ],
      "metadata": {
        "id": "gdsHAS4RUPpe"
      }
    },
    {
      "cell_type": "code",
      "source": [
        "# Make predictions on the unseen test set using the Random Forest model\n",
        "y_pred_rf = best_model_rf.predict(X_test)\n",
        "\n",
        "# Calculate accuracy scores by getting y_test to y_pred ratio\n",
        "accuracy_rf = accuracy_score(y_test, y_pred_rf)\n",
        "\n",
        "print(\"Classification report for Random Forests Classifier\")\n",
        "print(classification_report(y_test, y_pred_rf))\n",
        "print(f'The accuracy of Random Forests Classifier is {accuracy_rf}')"
      ],
      "metadata": {
        "execution": {
          "iopub.status.busy": "2023-08-07T23:22:42.963917Z",
          "iopub.execute_input": "2023-08-07T23:22:42.964249Z",
          "iopub.status.idle": "2023-08-07T23:22:43.016582Z",
          "shell.execute_reply.started": "2023-08-07T23:22:42.964213Z",
          "shell.execute_reply": "2023-08-07T23:22:43.015479Z"
        },
        "trusted": true,
        "id": "ABrUvWYyUPpe",
        "outputId": "0ad53736-3400-489f-c7fd-8b1c210ed3aa"
      },
      "execution_count": null,
      "outputs": [
        {
          "name": "stdout",
          "text": "Classification report for Random Forests Classifier\n              precision    recall  f1-score   support\n\n           0       1.00      0.98      0.99        49\n           1       0.98      1.00      0.99        53\n\n    accuracy                           0.99       102\n   macro avg       0.99      0.99      0.99       102\nweighted avg       0.99      0.99      0.99       102\n\nThe accuracy of Random Forests Classifier is 0.9901960784313726\n",
          "output_type": "stream"
        }
      ]
    }
  ]
}